{
 "cells": [
  {
   "cell_type": "markdown",
   "id": "27dccb61",
   "metadata": {},
   "source": [
    "Data sourced from Kaggle competition [Natural Language Processing with Disaster Tweets](https://www.kaggle.com/c/nlp-getting-started/overview)"
   ]
  },
  {
   "cell_type": "code",
   "execution_count": 1,
   "id": "3d54f447",
   "metadata": {},
   "outputs": [],
   "source": [
    "# import core libraries\n",
    "\n",
    "import pandas as pd\n",
    "import numpy as np\n",
    "import matplotlib.pyplot as plt\n",
    "import seaborn as sns"
   ]
  },
  {
   "cell_type": "code",
   "execution_count": 2,
   "id": "a9f6db65",
   "metadata": {},
   "outputs": [],
   "source": [
    "import joblib"
   ]
  },
  {
   "cell_type": "code",
   "execution_count": 3,
   "id": "d110d740",
   "metadata": {},
   "outputs": [],
   "source": [
    "# pre-processing\n",
    "\n",
    "from sklearn.feature_extraction.text import CountVectorizer\n",
    "from sklearn.feature_extraction.text import TfidfVectorizer\n",
    "from sklearn.pipeline import make_pipeline, Pipeline\n",
    "from sklearn.preprocessing import OneHotEncoder, StandardScaler\n",
    "from sklearn.compose import ColumnTransformer\n",
    "\n",
    "import nltk\n",
    "from textblob import TextBlob\n",
    "from langdetect import detect\n",
    "\n",
    "import contractions"
   ]
  },
  {
   "cell_type": "code",
   "execution_count": 4,
   "id": "389922b9",
   "metadata": {},
   "outputs": [],
   "source": [
    "# modelling\n",
    "\n",
    "from sklearn.linear_model import LogisticRegression, LogisticRegressionCV\n",
    "from sklearn.neighbors import KNeighborsClassifier\n",
    "from sklearn.tree import DecisionTreeClassifier\n",
    "from sklearn.svm import SVC\n",
    "from sklearn.ensemble import RandomForestClassifier\n",
    "\n",
    "from sklearn.model_selection import train_test_split, cross_val_score, GridSearchCV"
   ]
  },
  {
   "cell_type": "code",
   "execution_count": 5,
   "id": "992c4ea5",
   "metadata": {},
   "outputs": [],
   "source": [
    "# metrics/evaluation\n",
    "\n",
    "import scikitplot as skplt\n",
    "from matplotlib.colors import ListedColormap\n",
    "from sklearn.metrics import confusion_matrix, accuracy_score, classification_report"
   ]
  },
  {
   "cell_type": "code",
   "execution_count": 6,
   "id": "f8f9a9cd",
   "metadata": {},
   "outputs": [],
   "source": [
    "# instantiating the train and test sets\n",
    "\n",
    "train = pd.read_csv('data/train.csv')\n",
    "test =  pd.read_csv('data/test.csv')"
   ]
  },
  {
   "cell_type": "code",
   "execution_count": 7,
   "id": "b056ba51",
   "metadata": {},
   "outputs": [],
   "source": [
    "# combining the train and test sets for the purpose of EDA and Data Cleaning/Feature Engineering\n",
    "\n",
    "df = pd.concat([train, test], ignore_index=True)"
   ]
  },
  {
   "cell_type": "code",
   "execution_count": 8,
   "id": "0ff5bfc3",
   "metadata": {},
   "outputs": [
    {
     "name": "stdout",
     "output_type": "stream",
     "text": [
      "Training Dataframe Shape: (7613, 5)\n",
      "Test Dataframe Shape: (3263, 4)\n",
      "Combined Dataframe Shape: (10876, 5)\n"
     ]
    }
   ],
   "source": [
    "print(\"Training Dataframe Shape: {}\".format(str(train.shape)))\n",
    "print(\"Test Dataframe Shape: {}\".format(str(test.shape)))\n",
    "print(\"Combined Dataframe Shape: {}\".format(str(df.shape)))"
   ]
  },
  {
   "cell_type": "code",
   "execution_count": 9,
   "id": "ed0e5598",
   "metadata": {},
   "outputs": [
    {
     "data": {
      "text/html": [
       "<div>\n",
       "<style scoped>\n",
       "    .dataframe tbody tr th:only-of-type {\n",
       "        vertical-align: middle;\n",
       "    }\n",
       "\n",
       "    .dataframe tbody tr th {\n",
       "        vertical-align: top;\n",
       "    }\n",
       "\n",
       "    .dataframe thead th {\n",
       "        text-align: right;\n",
       "    }\n",
       "</style>\n",
       "<table border=\"1\" class=\"dataframe\">\n",
       "  <thead>\n",
       "    <tr style=\"text-align: right;\">\n",
       "      <th></th>\n",
       "      <th>id</th>\n",
       "      <th>keyword</th>\n",
       "      <th>location</th>\n",
       "      <th>text</th>\n",
       "      <th>target</th>\n",
       "    </tr>\n",
       "  </thead>\n",
       "  <tbody>\n",
       "    <tr>\n",
       "      <th>0</th>\n",
       "      <td>1</td>\n",
       "      <td>NaN</td>\n",
       "      <td>NaN</td>\n",
       "      <td>Our Deeds are the Reason of this #earthquake M...</td>\n",
       "      <td>1.0</td>\n",
       "    </tr>\n",
       "    <tr>\n",
       "      <th>1</th>\n",
       "      <td>4</td>\n",
       "      <td>NaN</td>\n",
       "      <td>NaN</td>\n",
       "      <td>Forest fire near La Ronge Sask. Canada</td>\n",
       "      <td>1.0</td>\n",
       "    </tr>\n",
       "    <tr>\n",
       "      <th>2</th>\n",
       "      <td>5</td>\n",
       "      <td>NaN</td>\n",
       "      <td>NaN</td>\n",
       "      <td>All residents asked to 'shelter in place' are ...</td>\n",
       "      <td>1.0</td>\n",
       "    </tr>\n",
       "    <tr>\n",
       "      <th>3</th>\n",
       "      <td>6</td>\n",
       "      <td>NaN</td>\n",
       "      <td>NaN</td>\n",
       "      <td>13,000 people receive #wildfires evacuation or...</td>\n",
       "      <td>1.0</td>\n",
       "    </tr>\n",
       "    <tr>\n",
       "      <th>4</th>\n",
       "      <td>7</td>\n",
       "      <td>NaN</td>\n",
       "      <td>NaN</td>\n",
       "      <td>Just got sent this photo from Ruby #Alaska as ...</td>\n",
       "      <td>1.0</td>\n",
       "    </tr>\n",
       "  </tbody>\n",
       "</table>\n",
       "</div>"
      ],
      "text/plain": [
       "   id keyword location                                               text  \\\n",
       "0   1     NaN      NaN  Our Deeds are the Reason of this #earthquake M...   \n",
       "1   4     NaN      NaN             Forest fire near La Ronge Sask. Canada   \n",
       "2   5     NaN      NaN  All residents asked to 'shelter in place' are ...   \n",
       "3   6     NaN      NaN  13,000 people receive #wildfires evacuation or...   \n",
       "4   7     NaN      NaN  Just got sent this photo from Ruby #Alaska as ...   \n",
       "\n",
       "   target  \n",
       "0     1.0  \n",
       "1     1.0  \n",
       "2     1.0  \n",
       "3     1.0  \n",
       "4     1.0  "
      ]
     },
     "execution_count": 9,
     "metadata": {},
     "output_type": "execute_result"
    }
   ],
   "source": [
    "# example of tweets\n",
    "\n",
    "df.head()"
   ]
  },
  {
   "cell_type": "code",
   "execution_count": 10,
   "id": "aaf5faec",
   "metadata": {},
   "outputs": [
    {
     "name": "stdout",
     "output_type": "stream",
     "text": [
      "<class 'pandas.core.frame.DataFrame'>\n",
      "RangeIndex: 10876 entries, 0 to 10875\n",
      "Data columns (total 5 columns):\n",
      " #   Column    Non-Null Count  Dtype  \n",
      "---  ------    --------------  -----  \n",
      " 0   id        10876 non-null  int64  \n",
      " 1   keyword   10789 non-null  object \n",
      " 2   location  7238 non-null   object \n",
      " 3   text      10876 non-null  object \n",
      " 4   target    7613 non-null   float64\n",
      "dtypes: float64(1), int64(1), object(3)\n",
      "memory usage: 425.0+ KB\n"
     ]
    }
   ],
   "source": [
    "df.info()"
   ]
  },
  {
   "cell_type": "code",
   "execution_count": 11,
   "id": "ffb68df0",
   "metadata": {},
   "outputs": [
    {
     "data": {
      "image/png": "[encoded data removed]",
      "text/plain": [
       "<Figure size 432x288 with 1 Axes>"
      ]
     },
     "metadata": {
      "needs_background": "light"
     },
     "output_type": "display_data"
    }
   ],
   "source": [
    "df.target.value_counts().plot.bar()\n",
    "\n",
    "plt.xticks([0,1], ['Non-Disaster Tweet', 'Disaster Tweet'], rotation=0)\n",
    "\n",
    "plt.show()"
   ]
  },
  {
   "cell_type": "markdown",
   "id": "1b4aaee5",
   "metadata": {},
   "source": [
    "### Dealing with null values"
   ]
  },
  {
   "cell_type": "code",
   "execution_count": 12,
   "id": "b7524c9e",
   "metadata": {},
   "outputs": [
    {
     "data": {
      "text/plain": [
       "id             0\n",
       "keyword       87\n",
       "location    3638\n",
       "text           0\n",
       "target      3263\n",
       "dtype: int64"
      ]
     },
     "execution_count": 12,
     "metadata": {},
     "output_type": "execute_result"
    }
   ],
   "source": [
    "# null values in the training set\n",
    "\n",
    "df.isnull().sum()"
   ]
  },
  {
   "cell_type": "code",
   "execution_count": 13,
   "id": "88433d45",
   "metadata": {},
   "outputs": [],
   "source": [
    "# creating a new category for the null keyword and location values\n",
    "\n",
    "df.fillna({'keyword': 'unknown', 'location': 'unknown'},inplace=True)"
   ]
  },
  {
   "cell_type": "markdown",
   "id": "02533823",
   "metadata": {},
   "source": [
    "### Keyword"
   ]
  },
  {
   "cell_type": "code",
   "execution_count": 14,
   "id": "13d63128",
   "metadata": {},
   "outputs": [],
   "source": [
    "keyword = df.keyword.apply(lambda x: \"No\" if x==\"unknown\" else \"Yes\")"
   ]
  },
  {
   "cell_type": "code",
   "execution_count": 15,
   "id": "2636aec5",
   "metadata": {},
   "outputs": [
    {
     "data": {
      "image/png": "[encoded data removed]",
      "text/plain": [
       "<Figure size 432x288 with 1 Axes>"
      ]
     },
     "metadata": {
      "needs_background": "light"
     },
     "output_type": "display_data"
    }
   ],
   "source": [
    "df.keyword.value_counts().plot.hist()\n",
    "\n",
    "plt.show()"
   ]
  },
  {
   "cell_type": "code",
   "execution_count": 16,
   "id": "2087c401",
   "metadata": {},
   "outputs": [
    {
     "data": {
      "image/png": "[encoded data removed]",
      "text/plain": [
       "<Figure size 1152x720 with 2 Axes>"
      ]
     },
     "metadata": {
      "needs_background": "light"
     },
     "output_type": "display_data"
    }
   ],
   "source": [
    "fig,ax = plt.subplots(2,1,figsize=(16,10))\n",
    "\n",
    "df[df.target==0].keyword.value_counts(ascending=True).tail(20).plot.barh(ax=ax[0])\n",
    "df[df.target==1].keyword.value_counts(ascending=True).tail(20).plot.barh(ax=ax[1])\n",
    "\n",
    "ax[0].set_title('Non-Disaster Tweets')\n",
    "ax[1].set_title('Disaster Tweets')\n",
    "\n",
    "fig.suptitle('Most Common Keywords', fontsize=15)\n",
    "\n",
    "plt.show()"
   ]
  },
  {
   "cell_type": "code",
   "execution_count": 20,
   "id": "080f63c5",
   "metadata": {},
   "outputs": [],
   "source": [
    "# cleaning the keyword column\n",
    "\n",
    "df.replace({'keyword': '%20'}, {'keyword': ' '}, inplace=True, regex=True)"
   ]
  },
  {
   "cell_type": "code",
   "execution_count": 21,
   "id": "022d78e7",
   "metadata": {},
   "outputs": [
    {
     "data": {
      "text/plain": [
       "1018    @FoxNews @JenGriffinFNC When you call to repor...\n",
       "1019    Micom 2015 Summer Contrast Candy Color Bowknot...\n",
       "1020    HOBO Hobo Vintage Shira Convertible BÛ_ $238....\n",
       "1021    Child Shoulder Bags PVC Shoulder Book Bag Cart...\n",
       "1022    Womens Buckle Casual Stylish Shoulder Handbags...\n",
       "Name: text, dtype: object"
      ]
     },
     "execution_count": 21,
     "metadata": {},
     "output_type": "execute_result"
    }
   ],
   "source": [
    "df[df.keyword=='body_bags'].text.head()"
   ]
  },
  {
   "cell_type": "markdown",
   "id": "952b62e2",
   "metadata": {},
   "source": [
    "My takings from this is that the keywords column won't be very helpful in determining whether a tweet is related to a disaster or not. I would theorize that the keywords were used to decide which tweets should be included in this dataset, though, as they refer to ambiguous topics that may or may not be natural disasters."
   ]
  },
  {
   "cell_type": "markdown",
   "id": "93b56ce0",
   "metadata": {},
   "source": [
    "### Location"
   ]
  },
  {
   "cell_type": "code",
   "execution_count": 26,
   "id": "dae61b9b",
   "metadata": {
    "scrolled": false
   },
   "outputs": [
    {
     "data": {
      "text/plain": [
       "unknown            3638\n",
       "USA                 141\n",
       "New York            109\n",
       "United States        65\n",
       "London               58\n",
       "Canada               42\n",
       "Nigeria              40\n",
       "Worldwide            35\n",
       "India                35\n",
       "Los Angeles, CA      34\n",
       "UK                   33\n",
       "Kenya                32\n",
       "Washington, DC       31\n",
       "Mumbai               28\n",
       "United Kingdom       26\n",
       "Australia            25\n",
       "California           25\n",
       "Los Angeles          24\n",
       "San Francisco        23\n",
       "Chicago, IL          23\n",
       "Name: location, dtype: int64"
      ]
     },
     "execution_count": 26,
     "metadata": {},
     "output_type": "execute_result"
    }
   ],
   "source": [
    "# given how messy and the location column is, it's unlikely that we'll be able to clean it for modelling purposes\n",
    "\n",
    "df.location.value_counts().head(20)"
   ]
  },
  {
   "cell_type": "code",
   "execution_count": 27,
   "id": "50ff65b3",
   "metadata": {},
   "outputs": [
    {
     "data": {
      "image/png": "[encoded data removed]",
      "text/plain": [
       "<Figure size 1152x720 with 2 Axes>"
      ]
     },
     "metadata": {
      "needs_background": "light"
     },
     "output_type": "display_data"
    }
   ],
   "source": [
    "fig,ax = plt.subplots(2,1,figsize=(16,10))\n",
    "\n",
    "df[df.target==0].location.value_counts(ascending=True).tail(20).plot.barh(ax=ax[0])\n",
    "df[df.target==1].location.value_counts(ascending=True).tail(20).plot.barh(ax=ax[1])\n",
    "\n",
    "ax[0].set_title('Non-Disaster Tweets')\n",
    "ax[1].set_title('Disaster Tweets')\n",
    "\n",
    "fig.suptitle('Most Common Location Values', fontsize=15)\n",
    "\n",
    "plt.show()"
   ]
  },
  {
   "cell_type": "code",
   "execution_count": 28,
   "id": "b5c98912",
   "metadata": {},
   "outputs": [
    {
     "data": {
      "image/png": "[encoded data removed]",
      "text/plain": [
       "<Figure size 1152x432 with 2 Axes>"
      ]
     },
     "metadata": {
      "needs_background": "light"
     },
     "output_type": "display_data"
    }
   ],
   "source": [
    "fig,ax = plt.subplots(1,2,figsize=(16,6),sharey=True)\n",
    "\n",
    "df[df.target==0].location.apply(lambda x: \"unknown\" if x==\"unknown\" else \"known\").value_counts(normalize=True).plot.bar(ax=ax[0], color='g', rot=0)\n",
    "df[df.target==1].location.apply(lambda x: \"unknown\" if x==\"unknown\" else \"known\").value_counts(normalize=True).plot.bar(ax=ax[1], color='r', rot=0)\n",
    "\n",
    "ax[0].set_title('Non-Disaster Tweets')\n",
    "ax[1].set_title('Disaster Tweets')\n",
    "fig.suptitle('Proportion of Tweets with Known and Unknown Locations', fontsize=15)\n",
    "\n",
    "plt.show()"
   ]
  },
  {
   "cell_type": "markdown",
   "id": "d5a24e68",
   "metadata": {},
   "source": [
    "Given that the majority of tweets don't have a known location and there doesn't seem to be any importance on whether a tweet's location is known depending on which target value it has, I don't think that location will be a useful predictor."
   ]
  },
  {
   "cell_type": "code",
   "execution_count": 112,
   "id": "70d2094d",
   "metadata": {},
   "outputs": [],
   "source": [
    "cvec_loc = CountVectorizer(lowercase=True,strip_accents='unicode',ngram_range=(1,1))"
   ]
  },
  {
   "cell_type": "code",
   "execution_count": 113,
   "id": "e01daaf2",
   "metadata": {},
   "outputs": [],
   "source": [
    "cvec_mat = cvec_loc.fit_transform(df.location)"
   ]
  },
  {
   "cell_type": "code",
   "execution_count": 114,
   "id": "8a18f232",
   "metadata": {},
   "outputs": [],
   "source": [
    "loc_df = pd.DataFrame(cvec_mat.toarray(),columns=cvec_loc.get_feature_names())"
   ]
  },
  {
   "cell_type": "markdown",
   "id": "472c02f9",
   "metadata": {},
   "source": [
    "# vocab this!!"
   ]
  },
  {
   "cell_type": "code",
   "execution_count": 115,
   "id": "eb9cd700",
   "metadata": {},
   "outputs": [],
   "source": [
    "# pd.options.display.max_rows = 100"
   ]
  },
  {
   "cell_type": "code",
   "execution_count": 116,
   "id": "f176be30",
   "metadata": {},
   "outputs": [
    {
     "ename": "NameError",
     "evalue": "name 'uk_values' is not defined",
     "output_type": "error",
     "traceback": [
      "\u001b[0;31m---------------------------------------------------------------------------\u001b[0m",
      "\u001b[0;31mNameError\u001b[0m                                 Traceback (most recent call last)",
      "\u001b[0;32m<ipython-input-116-ab47e9bb0bff>\u001b[0m in \u001b[0;36m<module>\u001b[0;34m\u001b[0m\n\u001b[1;32m      7\u001b[0m \u001b[0mdc_values\u001b[0m \u001b[0;34m=\u001b[0m \u001b[0;34m[\u001b[0m\u001b[0;34m'washington'\u001b[0m\u001b[0;34m,\u001b[0m \u001b[0;34m' dc'\u001b[0m\u001b[0;34m]\u001b[0m\u001b[0;34m\u001b[0m\u001b[0;34m\u001b[0m\u001b[0m\n\u001b[1;32m      8\u001b[0m \u001b[0;34m\u001b[0m\u001b[0m\n\u001b[0;32m----> 9\u001b[0;31m \u001b[0muk_values\u001b[0m\u001b[0;34m\u001b[0m\u001b[0;34m\u001b[0m\u001b[0m\n\u001b[0m",
      "\u001b[0;31mNameError\u001b[0m: name 'uk_values' is not defined"
     ]
    }
   ],
   "source": [
    "usa_values = ['usa', 'united states']\n",
    "eu_values = ['united kingdom', ' uk', 'london']\n",
    "\n",
    "\n",
    "ny_values = ['new york', ' ny', 'brooklyn']\n",
    "ca_values = ['california','los angeles', 'san francisco', ' ca', 'san diego']\n",
    "dc_values = ['washington', ' dc']\n",
    "\n",
    "uk_values"
   ]
  },
  {
   "cell_type": "code",
   "execution_count": 119,
   "id": "ef48a85f",
   "metadata": {
    "scrolled": false
   },
   "outputs": [
    {
     "data": {
      "text/html": [
       "<div>\n",
       "<style scoped>\n",
       "    .dataframe tbody tr th:only-of-type {\n",
       "        vertical-align: middle;\n",
       "    }\n",
       "\n",
       "    .dataframe tbody tr th {\n",
       "        vertical-align: top;\n",
       "    }\n",
       "\n",
       "    .dataframe thead th {\n",
       "        text-align: right;\n",
       "    }\n",
       "</style>\n",
       "<table border=\"1\" class=\"dataframe\">\n",
       "  <thead>\n",
       "    <tr style=\"text-align: right;\">\n",
       "      <th></th>\n",
       "      <th>id</th>\n",
       "      <th>keyword</th>\n",
       "      <th>location</th>\n",
       "      <th>text</th>\n",
       "      <th>target</th>\n",
       "    </tr>\n",
       "  </thead>\n",
       "  <tbody>\n",
       "    <tr>\n",
       "      <th>33</th>\n",
       "      <td>50</td>\n",
       "      <td>ablaze</td>\n",
       "      <td>AFRICA</td>\n",
       "      <td>#AFRICANBAZE: Breaking news:Nigeria flag set a...</td>\n",
       "      <td>1.0</td>\n",
       "    </tr>\n",
       "    <tr>\n",
       "      <th>56</th>\n",
       "      <td>80</td>\n",
       "      <td>ablaze</td>\n",
       "      <td>South Africa</td>\n",
       "      <td>TRUCK ABLAZE : R21. VOORTREKKER AVE. OUTSIDE O...</td>\n",
       "      <td>1.0</td>\n",
       "    </tr>\n",
       "    <tr>\n",
       "      <th>796</th>\n",
       "      <td>1154</td>\n",
       "      <td>blight</td>\n",
       "      <td>Johannesburg, South Africa</td>\n",
       "      <td>'If you are going to achieve excellence in big...</td>\n",
       "      <td>0.0</td>\n",
       "    </tr>\n",
       "    <tr>\n",
       "      <th>1357</th>\n",
       "      <td>1959</td>\n",
       "      <td>burning buildings</td>\n",
       "      <td>Nelspruit, South Africa</td>\n",
       "      <td>Strikers in Phalaborwa striking over the CHINE...</td>\n",
       "      <td>1.0</td>\n",
       "    </tr>\n",
       "    <tr>\n",
       "      <th>1617</th>\n",
       "      <td>2336</td>\n",
       "      <td>collapse</td>\n",
       "      <td>Sandton, South Africa</td>\n",
       "      <td>SA MP. Steel and ferrochrome industry on verge...</td>\n",
       "      <td>0.0</td>\n",
       "    </tr>\n",
       "    <tr>\n",
       "      <th>1726</th>\n",
       "      <td>2489</td>\n",
       "      <td>collided</td>\n",
       "      <td>Johannesburg, South Africa</td>\n",
       "      <td>2 pple have been confirmed dead and over 20 re...</td>\n",
       "      <td>1.0</td>\n",
       "    </tr>\n",
       "    <tr>\n",
       "      <th>2281</th>\n",
       "      <td>3275</td>\n",
       "      <td>demolish</td>\n",
       "      <td>South Africa</td>\n",
       "      <td>Yea so I'm gonna demolish all those boundaries...</td>\n",
       "      <td>0.0</td>\n",
       "    </tr>\n",
       "    <tr>\n",
       "      <th>2430</th>\n",
       "      <td>3492</td>\n",
       "      <td>derailed</td>\n",
       "      <td>Durban, South Africa</td>\n",
       "      <td>Fun with my girls! @ Joe Cools - Durban Main P...</td>\n",
       "      <td>0.0</td>\n",
       "    </tr>\n",
       "    <tr>\n",
       "      <th>3096</th>\n",
       "      <td>4444</td>\n",
       "      <td>electrocute</td>\n",
       "      <td>South Africa</td>\n",
       "      <td>@el_torro_loco We can hear the conversation no...</td>\n",
       "      <td>0.0</td>\n",
       "    </tr>\n",
       "    <tr>\n",
       "      <th>3280</th>\n",
       "      <td>4706</td>\n",
       "      <td>epicentre</td>\n",
       "      <td>Africa</td>\n",
       "      <td>RT @calestous: Tanzania elephant population de...</td>\n",
       "      <td>1.0</td>\n",
       "    </tr>\n",
       "    <tr>\n",
       "      <th>3534</th>\n",
       "      <td>5052</td>\n",
       "      <td>eyewitness</td>\n",
       "      <td>South Africa</td>\n",
       "      <td>It's lights out again with stage-two load shed...</td>\n",
       "      <td>0.0</td>\n",
       "    </tr>\n",
       "    <tr>\n",
       "      <th>3538</th>\n",
       "      <td>5060</td>\n",
       "      <td>eyewitness</td>\n",
       "      <td>South Africa</td>\n",
       "      <td>'I tried to save Mido Macia': One of the murde...</td>\n",
       "      <td>0.0</td>\n",
       "    </tr>\n",
       "    <tr>\n",
       "      <th>4375</th>\n",
       "      <td>6216</td>\n",
       "      <td>hijacker</td>\n",
       "      <td>Free State, South Africa</td>\n",
       "      <td>Û÷Hijacker copsÛª back in the dock - http://...</td>\n",
       "      <td>1.0</td>\n",
       "    </tr>\n",
       "    <tr>\n",
       "      <th>4635</th>\n",
       "      <td>6588</td>\n",
       "      <td>inundated</td>\n",
       "      <td>Zeerust, South Africa</td>\n",
       "      <td>Most of us ddnt get this English  RT @ReIgN_Co...</td>\n",
       "      <td>0.0</td>\n",
       "    </tr>\n",
       "    <tr>\n",
       "      <th>5135</th>\n",
       "      <td>7324</td>\n",
       "      <td>nuclear reactor</td>\n",
       "      <td>Johannesburg, South Africa</td>\n",
       "      <td>@stunckle @Gordon_R74 @crazydoctorlady ...I'm ...</td>\n",
       "      <td>1.0</td>\n",
       "    </tr>\n",
       "    <tr>\n",
       "      <th>5466</th>\n",
       "      <td>7800</td>\n",
       "      <td>quarantine</td>\n",
       "      <td>South africa</td>\n",
       "      <td>Reddit Will Now Quarantine Offensive Content h...</td>\n",
       "      <td>0.0</td>\n",
       "    </tr>\n",
       "    <tr>\n",
       "      <th>5502</th>\n",
       "      <td>7851</td>\n",
       "      <td>quarantined</td>\n",
       "      <td>South Africa</td>\n",
       "      <td>#hot  Reddit's new content policy goes into ef...</td>\n",
       "      <td>0.0</td>\n",
       "    </tr>\n",
       "    <tr>\n",
       "      <th>5712</th>\n",
       "      <td>8150</td>\n",
       "      <td>rescuers</td>\n",
       "      <td>Africa</td>\n",
       "      <td>@Durban_Knight Rescuers are searching for hund...</td>\n",
       "      <td>1.0</td>\n",
       "    </tr>\n",
       "    <tr>\n",
       "      <th>5830</th>\n",
       "      <td>8329</td>\n",
       "      <td>rubble</td>\n",
       "      <td>West Africa</td>\n",
       "      <td>#TNN: China's Stock Market Crash: Are There Ge...</td>\n",
       "      <td>1.0</td>\n",
       "    </tr>\n",
       "    <tr>\n",
       "      <th>6316</th>\n",
       "      <td>9028</td>\n",
       "      <td>stretcher</td>\n",
       "      <td>south africa eastern cape</td>\n",
       "      <td>Mxaaaa South Africans Just Can't Appreciate Ef...</td>\n",
       "      <td>0.0</td>\n",
       "    </tr>\n",
       "    <tr>\n",
       "      <th>6350</th>\n",
       "      <td>9080</td>\n",
       "      <td>structural failure</td>\n",
       "      <td>Warm Heart Of Africa</td>\n",
       "      <td>@sabcnewsroom sabotage!I rule out structural f...</td>\n",
       "      <td>0.0</td>\n",
       "    </tr>\n",
       "    <tr>\n",
       "      <th>6417</th>\n",
       "      <td>9175</td>\n",
       "      <td>suicide bomber</td>\n",
       "      <td>africa</td>\n",
       "      <td>Suicide Bomber Kills More Than a Dozen in Saud...</td>\n",
       "      <td>1.0</td>\n",
       "    </tr>\n",
       "    <tr>\n",
       "      <th>6564</th>\n",
       "      <td>9393</td>\n",
       "      <td>survivors</td>\n",
       "      <td>AUSTRALIA-SOUTHAFRICA-CAMBODIA</td>\n",
       "      <td>The Cafe Run by Acid Attack Survivors in #Indi...</td>\n",
       "      <td>1.0</td>\n",
       "    </tr>\n",
       "    <tr>\n",
       "      <th>6647</th>\n",
       "      <td>9522</td>\n",
       "      <td>terrorist</td>\n",
       "      <td>proudly South African</td>\n",
       "      <td>@SwiftyCommissh @TaoistInsight @ImmortalTech S...</td>\n",
       "      <td>1.0</td>\n",
       "    </tr>\n",
       "    <tr>\n",
       "      <th>6889</th>\n",
       "      <td>9875</td>\n",
       "      <td>traumatised</td>\n",
       "      <td>South Africa</td>\n",
       "      <td>Yessum I'm traumatised ??</td>\n",
       "      <td>0.0</td>\n",
       "    </tr>\n",
       "    <tr>\n",
       "      <th>7087</th>\n",
       "      <td>10150</td>\n",
       "      <td>upheaval</td>\n",
       "      <td>CPT &amp; JHB, South Africa</td>\n",
       "      <td>To navigate inevitable upheaval internal audit...</td>\n",
       "      <td>0.0</td>\n",
       "    </tr>\n",
       "    <tr>\n",
       "      <th>7109</th>\n",
       "      <td>10186</td>\n",
       "      <td>violent storm</td>\n",
       "      <td>South Africa</td>\n",
       "      <td>POV footage captures violent landing from insi...</td>\n",
       "      <td>1.0</td>\n",
       "    </tr>\n",
       "    <tr>\n",
       "      <th>7311</th>\n",
       "      <td>10464</td>\n",
       "      <td>wild fires</td>\n",
       "      <td>Johannesburg, South Africa</td>\n",
       "      <td>They should just have load shedding permanentl...</td>\n",
       "      <td>0.0</td>\n",
       "    </tr>\n",
       "    <tr>\n",
       "      <th>7515</th>\n",
       "      <td>10748</td>\n",
       "      <td>wreckage</td>\n",
       "      <td>Africa</td>\n",
       "      <td>Malaysia PM confirms wreckage belongs to MH370...</td>\n",
       "      <td>1.0</td>\n",
       "    </tr>\n",
       "    <tr>\n",
       "      <th>8699</th>\n",
       "      <td>3577</td>\n",
       "      <td>desolate</td>\n",
       "      <td>Outreach Africa</td>\n",
       "      <td>And the 10 horns which u saw on the beast thes...</td>\n",
       "      <td>NaN</td>\n",
       "    </tr>\n",
       "    <tr>\n",
       "      <th>8742</th>\n",
       "      <td>3728</td>\n",
       "      <td>destroyed</td>\n",
       "      <td>Cape Town, South Africa</td>\n",
       "      <td>Remember #Hiroshima destroyed by #Nuclear bomb...</td>\n",
       "      <td>NaN</td>\n",
       "    </tr>\n",
       "    <tr>\n",
       "      <th>9011</th>\n",
       "      <td>4615</td>\n",
       "      <td>emergency services</td>\n",
       "      <td>Sunny South Africa</td>\n",
       "      <td>@GeneFMyburgh @crimeairnetwork and in a week t...</td>\n",
       "      <td>NaN</td>\n",
       "    </tr>\n",
       "    <tr>\n",
       "      <th>9126</th>\n",
       "      <td>5036</td>\n",
       "      <td>eyewitness</td>\n",
       "      <td>Cape Town, South Africa</td>\n",
       "      <td>Cape Town: Thousands living on Cape Town's str...</td>\n",
       "      <td>NaN</td>\n",
       "    </tr>\n",
       "    <tr>\n",
       "      <th>9523</th>\n",
       "      <td>6439</td>\n",
       "      <td>injured</td>\n",
       "      <td>South Africa Braamfontein</td>\n",
       "      <td>4 dead dozens injured in Gaza blast near house...</td>\n",
       "      <td>NaN</td>\n",
       "    </tr>\n",
       "    <tr>\n",
       "      <th>9843</th>\n",
       "      <td>7440</td>\n",
       "      <td>obliterated</td>\n",
       "      <td>Nigeria,West African</td>\n",
       "      <td>The day Hiroshima through the eyes of the bomb...</td>\n",
       "      <td>NaN</td>\n",
       "    </tr>\n",
       "    <tr>\n",
       "      <th>9938</th>\n",
       "      <td>7779</td>\n",
       "      <td>police</td>\n",
       "      <td>Uganda l Africa l Worldwide.</td>\n",
       "      <td>#Np love police @PhilCollinsFeed On #LateNiteM...</td>\n",
       "      <td>NaN</td>\n",
       "    </tr>\n",
       "    <tr>\n",
       "      <th>9973</th>\n",
       "      <td>7896</td>\n",
       "      <td>radiation emergency</td>\n",
       "      <td>Pretoria, South Africa</td>\n",
       "      <td>You knew that Israel is a world leader in life...</td>\n",
       "      <td>NaN</td>\n",
       "    </tr>\n",
       "  </tbody>\n",
       "</table>\n",
       "</div>"
      ],
      "text/plain": [
       "         id              keyword                        location  \\\n",
       "33       50               ablaze                          AFRICA   \n",
       "56       80               ablaze                    South Africa   \n",
       "796    1154               blight     Johannesburg, South Africa    \n",
       "1357   1959    burning buildings         Nelspruit, South Africa   \n",
       "1617   2336             collapse           Sandton, South Africa   \n",
       "1726   2489             collided      Johannesburg, South Africa   \n",
       "2281   3275             demolish                    South Africa   \n",
       "2430   3492             derailed            Durban, South Africa   \n",
       "3096   4444          electrocute                    South Africa   \n",
       "3280   4706            epicentre                          Africa   \n",
       "3534   5052           eyewitness                    South Africa   \n",
       "3538   5060           eyewitness                    South Africa   \n",
       "4375   6216             hijacker        Free State, South Africa   \n",
       "4635   6588            inundated           Zeerust, South Africa   \n",
       "5135   7324      nuclear reactor      Johannesburg, South Africa   \n",
       "5466   7800           quarantine                    South africa   \n",
       "5502   7851          quarantined                    South Africa   \n",
       "5712   8150             rescuers                          Africa   \n",
       "5830   8329               rubble                     West Africa   \n",
       "6316   9028            stretcher       south africa eastern cape   \n",
       "6350   9080   structural failure            Warm Heart Of Africa   \n",
       "6417   9175       suicide bomber                          africa   \n",
       "6564   9393            survivors  AUSTRALIA-SOUTHAFRICA-CAMBODIA   \n",
       "6647   9522            terrorist           proudly South African   \n",
       "6889   9875          traumatised                    South Africa   \n",
       "7087  10150             upheaval         CPT & JHB, South Africa   \n",
       "7109  10186        violent storm                    South Africa   \n",
       "7311  10464           wild fires      Johannesburg, South Africa   \n",
       "7515  10748             wreckage                          Africa   \n",
       "8699   3577             desolate                 Outreach Africa   \n",
       "8742   3728            destroyed         Cape Town, South Africa   \n",
       "9011   4615   emergency services              Sunny South Africa   \n",
       "9126   5036           eyewitness         Cape Town, South Africa   \n",
       "9523   6439              injured       South Africa Braamfontein   \n",
       "9843   7440          obliterated            Nigeria,West African   \n",
       "9938   7779               police   Uganda l Africa l Worldwide.    \n",
       "9973   7896  radiation emergency          Pretoria, South Africa   \n",
       "\n",
       "                                                   text  target  \n",
       "33    #AFRICANBAZE: Breaking news:Nigeria flag set a...     1.0  \n",
       "56    TRUCK ABLAZE : R21. VOORTREKKER AVE. OUTSIDE O...     1.0  \n",
       "796   'If you are going to achieve excellence in big...     0.0  \n",
       "1357  Strikers in Phalaborwa striking over the CHINE...     1.0  \n",
       "1617  SA MP. Steel and ferrochrome industry on verge...     0.0  \n",
       "1726  2 pple have been confirmed dead and over 20 re...     1.0  \n",
       "2281  Yea so I'm gonna demolish all those boundaries...     0.0  \n",
       "2430  Fun with my girls! @ Joe Cools - Durban Main P...     0.0  \n",
       "3096  @el_torro_loco We can hear the conversation no...     0.0  \n",
       "3280  RT @calestous: Tanzania elephant population de...     1.0  \n",
       "3534  It's lights out again with stage-two load shed...     0.0  \n",
       "3538  'I tried to save Mido Macia': One of the murde...     0.0  \n",
       "4375  Û÷Hijacker copsÛª back in the dock - http://...     1.0  \n",
       "4635  Most of us ddnt get this English  RT @ReIgN_Co...     0.0  \n",
       "5135  @stunckle @Gordon_R74 @crazydoctorlady ...I'm ...     1.0  \n",
       "5466  Reddit Will Now Quarantine Offensive Content h...     0.0  \n",
       "5502  #hot  Reddit's new content policy goes into ef...     0.0  \n",
       "5712  @Durban_Knight Rescuers are searching for hund...     1.0  \n",
       "5830  #TNN: China's Stock Market Crash: Are There Ge...     1.0  \n",
       "6316  Mxaaaa South Africans Just Can't Appreciate Ef...     0.0  \n",
       "6350  @sabcnewsroom sabotage!I rule out structural f...     0.0  \n",
       "6417  Suicide Bomber Kills More Than a Dozen in Saud...     1.0  \n",
       "6564  The Cafe Run by Acid Attack Survivors in #Indi...     1.0  \n",
       "6647  @SwiftyCommissh @TaoistInsight @ImmortalTech S...     1.0  \n",
       "6889                          Yessum I'm traumatised ??     0.0  \n",
       "7087  To navigate inevitable upheaval internal audit...     0.0  \n",
       "7109  POV footage captures violent landing from insi...     1.0  \n",
       "7311  They should just have load shedding permanentl...     0.0  \n",
       "7515  Malaysia PM confirms wreckage belongs to MH370...     1.0  \n",
       "8699  And the 10 horns which u saw on the beast thes...     NaN  \n",
       "8742  Remember #Hiroshima destroyed by #Nuclear bomb...     NaN  \n",
       "9011  @GeneFMyburgh @crimeairnetwork and in a week t...     NaN  \n",
       "9126  Cape Town: Thousands living on Cape Town's str...     NaN  \n",
       "9523  4 dead dozens injured in Gaza blast near house...     NaN  \n",
       "9843  The day Hiroshima through the eyes of the bomb...     NaN  \n",
       "9938  #Np love police @PhilCollinsFeed On #LateNiteM...     NaN  \n",
       "9973  You knew that Israel is a world leader in life...     NaN  "
      ]
     },
     "execution_count": 119,
     "metadata": {},
     "output_type": "execute_result"
    }
   ],
   "source": [
    "df[df.location.str.contains('africa',case=False)]#['target'].value_counts(normalize='all')"
   ]
  },
  {
   "cell_type": "code",
   "execution_count": 67,
   "id": "874939d5",
   "metadata": {},
   "outputs": [
    {
     "data": {
      "text/plain": [
       "unknown         3641\n",
       "usa              375\n",
       "new              311\n",
       "ca               211\n",
       "york             204\n",
       "london           154\n",
       "united           137\n",
       "canada           129\n",
       "uk               125\n",
       "city             123\n",
       "ny               113\n",
       "california       113\n",
       "san              111\n",
       "england          105\n",
       "washington       100\n",
       "australia         91\n",
       "states            87\n",
       "los               87\n",
       "angeles           86\n",
       "tx                84\n",
       "nigeria           83\n",
       "texas             81\n",
       "fl                75\n",
       "india             71\n",
       "south             71\n",
       "world             69\n",
       "worldwide         69\n",
       "north             66\n",
       "dc                62\n",
       "chicago           62\n",
       "nc                58\n",
       "il                55\n",
       "florida           55\n",
       "pa                54\n",
       "francisco         54\n",
       "st                51\n",
       "va                50\n",
       "kingdom           49\n",
       "nyc               48\n",
       "ga                48\n",
       "jersey            48\n",
       "west              46\n",
       "mumbai            46\n",
       "kenya             46\n",
       "colorado          46\n",
       "mi                45\n",
       "earth             44\n",
       "toronto           43\n",
       "nj                43\n",
       "seattle           42\n",
       "ontario           41\n",
       "tn                40\n",
       "state             39\n",
       "atlanta           38\n",
       "ireland           38\n",
       "calgary           37\n",
       "az                37\n",
       "oh                37\n",
       "ma                36\n",
       "manchester        35\n",
       "wa                35\n",
       "carolina          34\n",
       "africa            34\n",
       "denver            34\n",
       "oregon            33\n",
       "sydney            33\n",
       "alberta           33\n",
       "ohio              31\n",
       "lagos             31\n",
       "melbourne         31\n",
       "east              30\n",
       "mo                30\n",
       "philippines       29\n",
       "la                29\n",
       "boston            29\n",
       "county            29\n",
       "houston           28\n",
       "indonesia         28\n",
       "beach             28\n",
       "diego             28\n",
       "las               27\n",
       "iit               27\n",
       "bc                27\n",
       "vegas             26\n",
       "vancouver         26\n",
       "global            26\n",
       "island            26\n",
       "com               25\n",
       "georgia           25\n",
       "dallas            25\n",
       "area              25\n",
       "oklahoma          24\n",
       "austin            24\n",
       "japan             24\n",
       "scotland          23\n",
       "wales             22\n",
       "hell              22\n",
       "portland          22\n",
       "town              21\n",
       "pennsylvania      21\n",
       "dtype: int64"
      ]
     },
     "execution_count": 67,
     "metadata": {},
     "output_type": "execute_result"
    }
   ],
   "source": [
    "loc_df.sum().sort_values(ascending=False).iloc[0:100]"
   ]
  },
  {
   "cell_type": "markdown",
   "id": "7f1e0291",
   "metadata": {},
   "source": [
    "# Text\n",
    "\n",
    "### Language"
   ]
  },
  {
   "cell_type": "code",
   "execution_count": null,
   "id": "62c30c55",
   "metadata": {},
   "outputs": [],
   "source": [
    "# checking that all tweets are in English\n",
    "\n",
    "# lang_series = df.text.apply(lambda x: detect(x))"
   ]
  },
  {
   "cell_type": "code",
   "execution_count": null,
   "id": "4cbb31c5",
   "metadata": {},
   "outputs": [],
   "source": [
    "# saving lang_series as a joblib file\n",
    "\n",
    "# joblib.dump(lang_series, 'jlib_files/lang_series.jlib')"
   ]
  },
  {
   "cell_type": "code",
   "execution_count": null,
   "id": "88fd48c5",
   "metadata": {},
   "outputs": [],
   "source": [
    "# loading lang_series jlib file\n",
    "\n",
    "lang_series = joblib.load('jlib_files/lang_series.jlib')\n",
    "\n",
    "df['language'] = lang_series"
   ]
  },
  {
   "cell_type": "code",
   "execution_count": null,
   "id": "c09e030d",
   "metadata": {},
   "outputs": [],
   "source": [
    "df[df.language != 'en'].sample(5)"
   ]
  },
  {
   "cell_type": "markdown",
   "id": "b88469b7",
   "metadata": {},
   "source": [
    "It seems that the language detector function isn't doing a very good job of picking up some of the tweets' language. Regardless, it seems that all of the tweets are in English so we don't have to worry about dealing with other languages."
   ]
  },
  {
   "cell_type": "code",
   "execution_count": null,
   "id": "f2d35425",
   "metadata": {},
   "outputs": [],
   "source": [
    "# dropping language column from dataset\n",
    "\n",
    "df.drop('language', 1, inplace=True)"
   ]
  },
  {
   "cell_type": "markdown",
   "id": "b953793f",
   "metadata": {},
   "source": [
    "### Countvectorisation for EDA"
   ]
  },
  {
   "cell_type": "code",
   "execution_count": null,
   "id": "1d70f7ab",
   "metadata": {},
   "outputs": [],
   "source": [
    "cvec = CountVectorizer(stop_words='english',ngram_range=(1,1), lowercase=False)\n",
    "matr = cvec.fit_transform(df.text)\n",
    "df_cvec = pd.DataFrame(matr.toarray() , columns = cvec.get_feature_names())"
   ]
  },
  {
   "cell_type": "markdown",
   "id": "0176944d",
   "metadata": {},
   "source": [
    "Having a look at the 100 most most common unigrams."
   ]
  },
  {
   "cell_type": "code",
   "execution_count": null,
   "id": "14d410a1",
   "metadata": {},
   "outputs": [],
   "source": [
    "fig,ax=plt.subplots(figsize=(16,24))\n",
    "\n",
    "df_cvec.sum().sort_values(ascending=True).tail(100).plot.barh(ax=ax)\n",
    "\n",
    "plt.show()"
   ]
  },
  {
   "cell_type": "markdown",
   "id": "ed72dbd1",
   "metadata": {},
   "source": [
    "We will be removing the http and https unigrams later down the line, for now let's remove some of the other common unigrams that aren't actual words."
   ]
  },
  {
   "cell_type": "code",
   "execution_count": null,
   "id": "e508b597",
   "metadata": {},
   "outputs": [],
   "source": [
    "# widening the default column settings for pandas dataframe\n",
    "\n",
    "pd.options.display.max_colwidth=200"
   ]
  },
  {
   "cell_type": "code",
   "execution_count": null,
   "id": "08f31c1e",
   "metadata": {},
   "outputs": [],
   "source": [
    "unigrams_remove = ['\\x89Û_', 'Û_', '&amp;', 'Ûªs']\n",
    "\n",
    "for unigram in unigrams_remove:\n",
    "    df['text'] = df.text.str.replace(unigram, '', regex=True)"
   ]
  },
  {
   "cell_type": "markdown",
   "id": "846f9b66",
   "metadata": {},
   "source": [
    "### Using the tweet-preprocessor package"
   ]
  },
  {
   "cell_type": "code",
   "execution_count": null,
   "id": "fa57d569",
   "metadata": {},
   "outputs": [],
   "source": [
    "import preprocessor as p"
   ]
  },
  {
   "cell_type": "markdown",
   "id": "14114371",
   "metadata": {},
   "source": [
    "### Cleaning tweets"
   ]
  },
  {
   "cell_type": "code",
   "execution_count": null,
   "id": "823df9ed",
   "metadata": {},
   "outputs": [],
   "source": [
    "# removing the tweet characteristics below from the tweets\n",
    "\n",
    "p.set_options(p.OPT.URL, p.OPT.EMOJI,p.OPT.SMILEY, p.OPT.MENTION, p.OPT.RESERVED)"
   ]
  },
  {
   "cell_type": "code",
   "execution_count": null,
   "id": "c781418f",
   "metadata": {},
   "outputs": [],
   "source": [
    "df['text_clean'] = df.text.apply(lambda x: p.clean(x))"
   ]
  },
  {
   "cell_type": "code",
   "execution_count": null,
   "id": "4444a2b1",
   "metadata": {},
   "outputs": [],
   "source": [
    "df.text_clean.head()"
   ]
  },
  {
   "cell_type": "markdown",
   "id": "f93410d0",
   "metadata": {},
   "source": [
    "### Creating meta-data for tweet characteristics"
   ]
  },
  {
   "cell_type": "code",
   "execution_count": null,
   "id": "f784e8db",
   "metadata": {},
   "outputs": [],
   "source": [
    "tweet_tokenized = df.text.apply(lambda x:p.tokenize(x))"
   ]
  },
  {
   "cell_type": "code",
   "execution_count": null,
   "id": "ab7e1ad8",
   "metadata": {},
   "outputs": [],
   "source": [
    "# creating a for-loop to add columns for the tweet meta-data features\n",
    "\n",
    "for feature in ['url', 'smiley', 'mention']:\n",
    "    feature_counter = []\n",
    "    for tweet in tweet_tokenized:\n",
    "        counter = 0\n",
    "        for word in tweet.split():\n",
    "            if word == \"$\"+feature.upper()+\"$\":\n",
    "                counter += 1\n",
    "        feature_counter.append(counter)\n",
    "    df[\"tweet_\"+feature] = feature_counter"
   ]
  },
  {
   "cell_type": "markdown",
   "id": "b16c922a",
   "metadata": {},
   "source": [
    "### Meta-data for hash-tags"
   ]
  },
  {
   "cell_type": "code",
   "execution_count": null,
   "id": "4f97ad42",
   "metadata": {},
   "outputs": [],
   "source": [
    "def hash_counter(x):\n",
    "    counter = 0\n",
    "    for word in x.split():\n",
    "        if word[0] == '#' and len(word) > 1:\n",
    "            counter += 1\n",
    "    return counter"
   ]
  },
  {
   "cell_type": "code",
   "execution_count": null,
   "id": "cec9b4b7",
   "metadata": {},
   "outputs": [],
   "source": [
    "df['tweet_hashtag'] = df.text_clean.apply(hash_counter)"
   ]
  },
  {
   "cell_type": "code",
   "execution_count": null,
   "id": "c97146de",
   "metadata": {},
   "outputs": [],
   "source": [
    "tweet_md = ['tweet_url', 'tweet_smiley', 'tweet_mention', 'tweet_hashtag']\n",
    "target_gb = df.groupby('target').mean()"
   ]
  },
  {
   "cell_type": "code",
   "execution_count": null,
   "id": "ff24f63d",
   "metadata": {},
   "outputs": [],
   "source": [
    "fig, ax = plt.subplots(4, 1, figsize = (16,14))\n",
    "\n",
    "target_gb['tweet_url'].plot.barh(ax=ax[0], color= ['g','r'])\n",
    "target_gb['tweet_smiley'].plot.barh(ax=ax[1], color= ['g','r'])\n",
    "target_gb['tweet_mention'].plot.barh(ax=ax[2], color= ['g','r'])\n",
    "target_gb['tweet_hashtag'].plot.barh(ax=ax[3], color= ['g','r'])\n",
    "\n",
    "features = ['URLs', 'Smileys', 'Mentions', 'Hashtags']\n",
    "\n",
    "for i, feature in zip(range(4), features):\n",
    "    ax[i].set_title(feature, fontsize=15)\n",
    "    ax[i].set_yticklabels(labels=['Not A Disaster Tweet', 'Disaster Tweet'])\n",
    "    ax[i].set_ylabel(None)\n",
    "\n",
    "fig.tight_layout(h_pad=3)\n",
    "fig.suptitle('Average No. of Times Tweet Features Appear',x= 0.5, y=1.03, fontsize=20)\n",
    "\n",
    "plt.show()"
   ]
  },
  {
   "cell_type": "code",
   "execution_count": null,
   "id": "46e18d23",
   "metadata": {},
   "outputs": [],
   "source": [
    "fig,ax = plt.subplots(figsize=(16,6))\n",
    "\n",
    "df.tweet_smiley.value_counts().plot.bar(ax=ax)\n",
    "\n",
    "plt.show()"
   ]
  },
  {
   "cell_type": "markdown",
   "id": "ebfc9342",
   "metadata": {},
   "source": [
    "Given that so few tweets contains smileys, there isn't much point including this variable as a predictor."
   ]
  },
  {
   "cell_type": "code",
   "execution_count": null,
   "id": "451525c1",
   "metadata": {},
   "outputs": [],
   "source": [
    "df.drop('tweet_smiley',axis=1,inplace=True)"
   ]
  },
  {
   "cell_type": "markdown",
   "id": "46ed2c20",
   "metadata": {},
   "source": [
    "### Text meta-data: length of tweet, number of words and average word length"
   ]
  },
  {
   "cell_type": "code",
   "execution_count": null,
   "id": "3b8d806d",
   "metadata": {},
   "outputs": [],
   "source": [
    "import string"
   ]
  },
  {
   "cell_type": "code",
   "execution_count": null,
   "id": "5965494d",
   "metadata": {},
   "outputs": [],
   "source": [
    "df['tweet_characters'] = df.text_clean.apply(lambda x: len(x))"
   ]
  },
  {
   "cell_type": "code",
   "execution_count": null,
   "id": "5d60b65b",
   "metadata": {},
   "outputs": [],
   "source": [
    "def word_counter(tweet):   \n",
    "    no_punct = ''.join([x for x in tweet if x not in string.punctuation])\n",
    "    word_lst = no_punct.split()      \n",
    "    return len(word_lst)"
   ]
  },
  {
   "cell_type": "code",
   "execution_count": null,
   "id": "93c045ad",
   "metadata": {},
   "outputs": [],
   "source": [
    "df['tweet_words'] = df.text_clean.apply(word_counter)"
   ]
  },
  {
   "cell_type": "code",
   "execution_count": null,
   "id": "96421055",
   "metadata": {},
   "outputs": [],
   "source": [
    "words = ''.join([x for x in 'Our Deeds are the Reason of this #earthquake ' if x not in string.punctuation]).split()"
   ]
  },
  {
   "cell_type": "code",
   "execution_count": null,
   "id": "8eeaad9d",
   "metadata": {},
   "outputs": [],
   "source": [
    "sum(map(len, words))/len(words)"
   ]
  },
  {
   "cell_type": "code",
   "execution_count": null,
   "id": "e0304654",
   "metadata": {},
   "outputs": [],
   "source": [
    "def ave_word_length(tweet):\n",
    "    no_punct = ''.join([x for x in tweet if x not in string.punctuation])\n",
    "    word_lst = no_punct.split()\n",
    "    return sum(map(len, word_lst))/len(word_lst)"
   ]
  },
  {
   "cell_type": "code",
   "execution_count": null,
   "id": "be3650bb",
   "metadata": {},
   "outputs": [],
   "source": [
    "df['tweet_av_word_length'] = df.text_clean.apply(ave_word_length)"
   ]
  },
  {
   "cell_type": "markdown",
   "id": "9132a950",
   "metadata": {},
   "source": [
    "## Visualising the text meta-data"
   ]
  },
  {
   "cell_type": "code",
   "execution_count": null,
   "id": "75e990a9",
   "metadata": {},
   "outputs": [],
   "source": [
    "target_gb = df.groupby('target').mean()"
   ]
  },
  {
   "cell_type": "code",
   "execution_count": null,
   "id": "e2afc0fd",
   "metadata": {},
   "outputs": [],
   "source": [
    "fig, ax = plt.subplots(3, 1, figsize = (16,10))\n",
    "\n",
    "target_gb['tweet_characters'].plot.barh(ax=ax[0], color= ['b','r'])\n",
    "target_gb['tweet_words'].plot.barh(ax=ax[1], color= ['b','r'])\n",
    "target_gb['tweet_av_word_length'].plot.barh(ax=ax[2], color= ['b','r'])\n",
    "\n",
    "features = ['No. of Characters', 'No. of Words', 'Average Word Length']\n",
    "\n",
    "for i, feature in zip(range(3), features):\n",
    "    ax[i].set_title(feature, fontsize=15)\n",
    "    ax[i].set_yticklabels(labels=['Not A Disaster Tweet', 'Disaster Tweet'])\n",
    "    ax[i].set_ylabel(None)\n",
    "\n",
    "fig.tight_layout(h_pad=3)\n",
    "fig.suptitle('Text Meta-data',x= 0.5, y=1.05, fontsize=20)\n",
    "\n",
    "plt.show()"
   ]
  },
  {
   "cell_type": "code",
   "execution_count": null,
   "id": "fae29505",
   "metadata": {},
   "outputs": [],
   "source": [
    "fig,ax = plt.subplots(1,2,figsize=(16,6))\n",
    "\n",
    "df[df.target==0.0].tweet_characters.hist(ax=ax[0],color='b',grid=False, bins=20)\n",
    "df[df.target==1.0].tweet_characters.hist(ax=ax[1],color='r',grid=False, bins=20)\n",
    "\n",
    "ax[0].set_title('Non-Disaster Tweet')\n",
    "ax[1].set_title('Disaster Tweet')\n",
    "fig.suptitle('No. of Characters in Tweet', fontsize=15)\n",
    "\n",
    "plt.show()"
   ]
  },
  {
   "cell_type": "code",
   "execution_count": null,
   "id": "9140cab1",
   "metadata": {},
   "outputs": [],
   "source": [
    "fig,ax = plt.subplots(1,2,figsize=(16,6))\n",
    "\n",
    "df[df.target==0.0].tweet_words.hist(ax=ax[0],color='b',grid=False, bins=15)\n",
    "df[df.target==1.0].tweet_words.hist(ax=ax[1],color='r',grid=False, bins=15)\n",
    "\n",
    "ax[0].set_title('Non-Disaster Tweet')\n",
    "ax[1].set_title('Disaster Tweet')\n",
    "fig.suptitle('No. of Words in Tweet', fontsize=15)\n",
    "\n",
    "plt.show()"
   ]
  },
  {
   "cell_type": "code",
   "execution_count": null,
   "id": "bfd2ea67",
   "metadata": {
    "scrolled": false
   },
   "outputs": [],
   "source": [
    "fig,ax = plt.subplots(1,2,figsize=(16,6))\n",
    "\n",
    "df[df.target==0.0].tweet_av_word_length.hist(ax=ax[0],color='b',grid=False)\n",
    "df[df.target==1.0].tweet_av_word_length.hist(ax=ax[1],color='r',grid=False)\n",
    "\n",
    "ax[0].set_title('Non-Disaster Tweet')\n",
    "ax[1].set_title('Disaster Tweet')\n",
    "fig.suptitle('Average Word Length in Tweet', fontsize=15)\n",
    "\n",
    "plt.show()"
   ]
  },
  {
   "cell_type": "markdown",
   "id": "8b14c5b9",
   "metadata": {},
   "source": [
    "## Final Text Cleaning"
   ]
  },
  {
   "cell_type": "markdown",
   "id": "196de66b",
   "metadata": {},
   "source": [
    "Remove punctuation completely"
   ]
  },
  {
   "cell_type": "code",
   "execution_count": null,
   "id": "8586a79b",
   "metadata": {},
   "outputs": [],
   "source": [
    "# removing punctuation from tweets\n",
    "\n",
    "for punct in string.punctuation:\n",
    "    df['text_clean'] = df.text_clean.str.replace(punct,'',regex=True)"
   ]
  },
  {
   "cell_type": "markdown",
   "id": "3d754958",
   "metadata": {},
   "source": [
    "Removing digits"
   ]
  },
  {
   "cell_type": "code",
   "execution_count": null,
   "id": "c9efdb4f",
   "metadata": {},
   "outputs": [],
   "source": [
    "df['text_clean'] = df.text_clean.replace('\\d+','',regex=True)"
   ]
  },
  {
   "cell_type": "markdown",
   "id": "8807d274",
   "metadata": {},
   "source": [
    "Expanding contractions"
   ]
  },
  {
   "cell_type": "code",
   "execution_count": null,
   "id": "bb7afb75",
   "metadata": {},
   "outputs": [],
   "source": [
    "df['text_clean'] = df.text_clean.apply(lambda x: ' '.join([contractions.fix(word) for word in x.split()]))"
   ]
  },
  {
   "cell_type": "markdown",
   "id": "afcd3b3b",
   "metadata": {},
   "source": [
    "Tokenizing Tweets"
   ]
  },
  {
   "cell_type": "code",
   "execution_count": null,
   "id": "3c1665ee",
   "metadata": {},
   "outputs": [],
   "source": [
    "df['text_clean'] = df.text_clean.apply(nltk.word_tokenize)"
   ]
  },
  {
   "cell_type": "markdown",
   "id": "f0479d0a",
   "metadata": {},
   "source": [
    "Change to lower-case"
   ]
  },
  {
   "cell_type": "code",
   "execution_count": null,
   "id": "832438f5",
   "metadata": {},
   "outputs": [],
   "source": [
    "df['text_clean'] = df.text_clean.apply(lambda x: [word.lower() for word in x])"
   ]
  },
  {
   "cell_type": "markdown",
   "id": "23d7a8b7",
   "metadata": {},
   "source": [
    "Removing stop words"
   ]
  },
  {
   "cell_type": "code",
   "execution_count": null,
   "id": "01936082",
   "metadata": {},
   "outputs": [],
   "source": [
    "from nltk.corpus import stopwords"
   ]
  },
  {
   "cell_type": "code",
   "execution_count": null,
   "id": "ad08dbe6",
   "metadata": {},
   "outputs": [],
   "source": [
    "nltk.download('stopwords')"
   ]
  },
  {
   "cell_type": "code",
   "execution_count": null,
   "id": "62beefce",
   "metadata": {},
   "outputs": [],
   "source": [
    "stop_words = set(stopwords.words('english'))"
   ]
  },
  {
   "cell_type": "code",
   "execution_count": null,
   "id": "f1afdbd5",
   "metadata": {},
   "outputs": [],
   "source": [
    "df['text_clean'] = df.text_clean.apply(lambda x: [word for word in x if word not in stop_words])"
   ]
  },
  {
   "cell_type": "markdown",
   "id": "302c42ba",
   "metadata": {},
   "source": [
    "Beginning the lemmatization process"
   ]
  },
  {
   "cell_type": "code",
   "execution_count": null,
   "id": "a1a9e9ef",
   "metadata": {},
   "outputs": [],
   "source": [
    "from nltk.corpus import wordnet"
   ]
  },
  {
   "cell_type": "code",
   "execution_count": null,
   "id": "b6947e4c",
   "metadata": {},
   "outputs": [],
   "source": [
    "from nltk.stem import WordNetLemmatizer"
   ]
  },
  {
   "cell_type": "code",
   "execution_count": null,
   "id": "e804042e",
   "metadata": {
    "scrolled": false
   },
   "outputs": [],
   "source": [
    "df['text_clean'] = df.text_clean.apply(nltk.tag.pos_tag)"
   ]
  },
  {
   "cell_type": "code",
   "execution_count": null,
   "id": "f875a6ce",
   "metadata": {},
   "outputs": [],
   "source": [
    "wnl = WordNetLemmatizer()"
   ]
  },
  {
   "cell_type": "code",
   "execution_count": null,
   "id": "11044ac8",
   "metadata": {},
   "outputs": [],
   "source": [
    "wnl.lemmatize('going', 'v')"
   ]
  },
  {
   "cell_type": "code",
   "execution_count": null,
   "id": "945cd8ea",
   "metadata": {},
   "outputs": [],
   "source": [
    "def get_wordnet_pos(tag):\n",
    "    if tag.startswith('J'):\n",
    "        return wordnet.ADJ\n",
    "    elif tag.startswith('V'):\n",
    "        return wordnet.VERB\n",
    "    elif tag.startswith('N'):\n",
    "        return wordnet.NOUN\n",
    "    elif tag.startswith('R'):\n",
    "        return wordnet.ADV\n",
    "    else:\n",
    "        return wordnet.NOUN\n",
    "df['text_clean'] = df['text_clean'].apply(lambda x: [(word, get_wordnet_pos(pos_tag)) for (word, pos_tag) in x])"
   ]
  },
  {
   "cell_type": "code",
   "execution_count": null,
   "id": "0548c5a8",
   "metadata": {},
   "outputs": [],
   "source": [
    "df['text_clean'] = df.text_clean.apply(lambda x: ' '.join([wnl.lemmatize(word, tag) for word,tag in x]))"
   ]
  },
  {
   "cell_type": "code",
   "execution_count": null,
   "id": "856c7b6e",
   "metadata": {},
   "outputs": [],
   "source": [
    "df.head()"
   ]
  },
  {
   "cell_type": "markdown",
   "id": "48063545",
   "metadata": {},
   "source": [
    "### Removing columns that are no longer needed"
   ]
  },
  {
   "cell_type": "code",
   "execution_count": null,
   "id": "addf6998",
   "metadata": {},
   "outputs": [],
   "source": [
    "df.columns"
   ]
  },
  {
   "cell_type": "code",
   "execution_count": null,
   "id": "029ef561",
   "metadata": {},
   "outputs": [],
   "source": [
    "df.drop(['location', 'text'],axis=1, inplace=True)"
   ]
  },
  {
   "cell_type": "code",
   "execution_count": null,
   "id": "e94f6b31",
   "metadata": {},
   "outputs": [],
   "source": [
    "df.rename({'text_clean': 'text'}, axis=1, inplace=True)"
   ]
  },
  {
   "cell_type": "markdown",
   "id": "6fc38e49",
   "metadata": {},
   "source": [
    "# Countvectorize"
   ]
  },
  {
   "cell_type": "markdown",
   "id": "3bffd80a",
   "metadata": {},
   "source": [
    "### DUMMIFY KEYWORD COLUMN\n",
    "\n",
    "Don't drop first"
   ]
  },
  {
   "cell_type": "markdown",
   "id": "41fcd5fe",
   "metadata": {},
   "source": [
    "### Unigrams"
   ]
  },
  {
   "cell_type": "code",
   "execution_count": null,
   "id": "b8280c37",
   "metadata": {},
   "outputs": [],
   "source": [
    "cvec_1 = CountVectorizer(strip_accents='unicode', ngram_range=(1,1), max_df=1.0, min_df=1)"
   ]
  },
  {
   "cell_type": "code",
   "execution_count": null,
   "id": "82cdf98f",
   "metadata": {},
   "outputs": [],
   "source": [
    "matrix = cvec_1.fit_transform(df.text)"
   ]
  },
  {
   "cell_type": "code",
   "execution_count": null,
   "id": "4b3d22bd",
   "metadata": {},
   "outputs": [],
   "source": [
    "len(cvec_1.get_feature_names())"
   ]
  },
  {
   "cell_type": "code",
   "execution_count": null,
   "id": "c656a923",
   "metadata": {},
   "outputs": [],
   "source": [
    "df_cvec_1 = pd.DataFrame(matrix.toarray(), columns = cvec_1.get_feature_names())"
   ]
  },
  {
   "cell_type": "code",
   "execution_count": null,
   "id": "3a562a2e",
   "metadata": {},
   "outputs": [],
   "source": [
    "df_cvec_1['df_target'] = df.target"
   ]
  },
  {
   "cell_type": "code",
   "execution_count": null,
   "id": "04ae2324",
   "metadata": {},
   "outputs": [],
   "source": [
    "top_words_0 = df_cvec_1.groupby('df_target').sum().loc[0.0].sort_values(ascending=True).tail(20)\n",
    "top_words_1 = df_cvec_1.groupby('df_target').sum().loc[1.0].sort_values(ascending=True).tail(20)"
   ]
  },
  {
   "cell_type": "code",
   "execution_count": null,
   "id": "0e6b6852",
   "metadata": {
    "scrolled": false
   },
   "outputs": [],
   "source": [
    "fig,ax = plt.subplots(2,1,figsize=(16,12))\n",
    "\n",
    "top_words_0.plot.barh(ax=ax[0], fontsize=13)\n",
    "top_words_1.plot.barh(ax=ax[1], fontsize=13)\n",
    "\n",
    "ax[0].set_title('20 Most Frequently Appearing Unigrams for Non-Disaster Tweets', fontsize=15)\n",
    "ax[1].set_title('20 Most Frequently Appearing Unigrams for Disaster Tweets', fontsize=15)\n",
    "\n",
    "plt.show()"
   ]
  },
  {
   "cell_type": "markdown",
   "id": "5a3e6cb1",
   "metadata": {},
   "source": [
    "### Bigrams"
   ]
  },
  {
   "cell_type": "code",
   "execution_count": null,
   "id": "614d2a33",
   "metadata": {},
   "outputs": [],
   "source": [
    "cvec_2 = CountVectorizer(strip_accents='unicode', ngram_range=(2,2), max_df=1.0, min_df=1)"
   ]
  },
  {
   "cell_type": "code",
   "execution_count": null,
   "id": "832c5ca8",
   "metadata": {},
   "outputs": [],
   "source": [
    "matrix_2 = cvec_2.fit_transform(df.text)"
   ]
  },
  {
   "cell_type": "code",
   "execution_count": null,
   "id": "a9cb11b4",
   "metadata": {},
   "outputs": [],
   "source": [
    "len(cvec_2.get_feature_names())"
   ]
  },
  {
   "cell_type": "code",
   "execution_count": null,
   "id": "f24b16b1",
   "metadata": {},
   "outputs": [],
   "source": [
    "df_cvec_2 = pd.DataFrame(matrix_2.toarray(), columns = cvec_2.get_feature_names())"
   ]
  },
  {
   "cell_type": "code",
   "execution_count": null,
   "id": "397ec8ab",
   "metadata": {},
   "outputs": [],
   "source": [
    "df_cvec_2['df_target'] = df.target"
   ]
  },
  {
   "cell_type": "code",
   "execution_count": null,
   "id": "64cc9d5d",
   "metadata": {},
   "outputs": [],
   "source": [
    "top_bigrams_0 = df_cvec_2.groupby('df_target').sum().loc[0.0].sort_values(ascending=True).tail(20)\n",
    "top_bigrams_1 = df_cvec_2.groupby('df_target').sum().loc[1.0].sort_values(ascending=True).tail(20)"
   ]
  },
  {
   "cell_type": "code",
   "execution_count": null,
   "id": "bc28aac4",
   "metadata": {},
   "outputs": [],
   "source": [
    "fig,ax = plt.subplots(2,1,figsize=(16,12))\n",
    "\n",
    "top_bigrams_0.plot.barh(ax=ax[0], fontsize=13)\n",
    "top_bigrams_1.plot.barh(ax=ax[1], fontsize=13)\n",
    "\n",
    "ax[0].set_title('20 Most Frequently Appearing Bigrams for Non-Disaster Tweets', fontsize=15)\n",
    "ax[1].set_title('20 Most Frequently Appearing Bigrams for Disaster Tweets', fontsize=15)\n",
    "\n",
    "plt.show()"
   ]
  },
  {
   "cell_type": "markdown",
   "id": "49f848ff",
   "metadata": {},
   "source": [
    "## Trigrams"
   ]
  },
  {
   "cell_type": "code",
   "execution_count": null,
   "id": "46a3c1fe",
   "metadata": {},
   "outputs": [],
   "source": [
    "cvec_3 = CountVectorizer(strip_accents='unicode', ngram_range=(3,3), max_df=1.0, min_df=1)"
   ]
  },
  {
   "cell_type": "code",
   "execution_count": null,
   "id": "5eb20387",
   "metadata": {},
   "outputs": [],
   "source": [
    "matrix_3 = cvec_3.fit_transform(df.text)"
   ]
  },
  {
   "cell_type": "code",
   "execution_count": null,
   "id": "e19a2cdb",
   "metadata": {},
   "outputs": [],
   "source": [
    "len(cvec_3.get_feature_names())"
   ]
  },
  {
   "cell_type": "code",
   "execution_count": null,
   "id": "62b3c685",
   "metadata": {},
   "outputs": [],
   "source": [
    "df_cvec_3 = pd.DataFrame(matrix_3.toarray(), columns = cvec_3.get_feature_names())"
   ]
  },
  {
   "cell_type": "code",
   "execution_count": null,
   "id": "d3ebd5c9",
   "metadata": {},
   "outputs": [],
   "source": [
    "df_cvec_3['df_target'] = df.target"
   ]
  },
  {
   "cell_type": "code",
   "execution_count": null,
   "id": "8ed428a2",
   "metadata": {},
   "outputs": [],
   "source": [
    "top_trigrams_0 = df_cvec_3.groupby('df_target').sum().loc[0.0].sort_values(ascending=True).tail(20)\n",
    "top_trigrams_1 = df_cvec_3.groupby('df_target').sum().loc[1.0].sort_values(ascending=True).tail(20)"
   ]
  },
  {
   "cell_type": "code",
   "execution_count": null,
   "id": "3739e0af",
   "metadata": {
    "scrolled": false
   },
   "outputs": [],
   "source": [
    "fig,ax = plt.subplots(2,1,figsize=(16,12))\n",
    "\n",
    "top_trigrams_0.plot.barh(ax=ax[0], fontsize=13)\n",
    "top_trigrams_1.plot.barh(ax=ax[1], fontsize=13)\n",
    "\n",
    "ax[0].set_title('20 Most Frequently Appearing Trigrams for Non-Disaster Tweets', fontsize=15)\n",
    "ax[1].set_title('20 Most Frequently Appearing Trigrams for Disaster Tweets', fontsize=15)\n",
    "\n",
    "plt.show()"
   ]
  },
  {
   "cell_type": "markdown",
   "id": "4ad8e374",
   "metadata": {},
   "source": [
    "## Final pre-processing"
   ]
  },
  {
   "cell_type": "markdown",
   "id": "3ae7e34d",
   "metadata": {},
   "source": [
    "Would like to remove the most infrequent and too frequent n-grams"
   ]
  },
  {
   "cell_type": "code",
   "execution_count": null,
   "id": "2168d27c",
   "metadata": {},
   "outputs": [],
   "source": [
    "cvec = CountVectorizer(strip_accents='unicode', ngram_range=(1,2), min_df=5)"
   ]
  },
  {
   "cell_type": "code",
   "execution_count": null,
   "id": "2517f7af",
   "metadata": {},
   "outputs": [],
   "source": [
    "matrix = cvec.fit_transform(df.text)"
   ]
  },
  {
   "cell_type": "code",
   "execution_count": null,
   "id": "69708141",
   "metadata": {},
   "outputs": [],
   "source": [
    "len(cvec.get_feature_names())"
   ]
  },
  {
   "cell_type": "code",
   "execution_count": null,
   "id": "1c955e3d",
   "metadata": {},
   "outputs": [],
   "source": [
    "df_cvec = pd.DataFrame(matrix.toarray(), columns = cvec.get_feature_names())"
   ]
  },
  {
   "cell_type": "code",
   "execution_count": null,
   "id": "04224083",
   "metadata": {},
   "outputs": [],
   "source": [
    "df_cvec['df_target'] = df.target"
   ]
  },
  {
   "cell_type": "code",
   "execution_count": null,
   "id": "d4f3557c",
   "metadata": {},
   "outputs": [],
   "source": [
    "top_ngrams_0 = df_cvec.groupby('df_target').sum().loc[0.0].sort_values(ascending=True).tail(40)\n",
    "top_ngrams_1 = df_cvec.groupby('df_target').sum().loc[1.0].sort_values(ascending=True).tail(40)"
   ]
  },
  {
   "cell_type": "code",
   "execution_count": null,
   "id": "4b6401df",
   "metadata": {
    "scrolled": false
   },
   "outputs": [],
   "source": [
    "fig,ax = plt.subplots(2,1,figsize=(16,24))\n",
    "\n",
    "top_ngrams_0.plot.barh(ax=ax[0], fontsize=13)\n",
    "top_ngrams_1.plot.barh(ax=ax[1], fontsize=13)\n",
    "\n",
    "ax[0].set_title('40 Most Frequently Appearing Unigrams and Bigrams for Non-Disaster Tweets', fontsize=15)\n",
    "ax[1].set_title('40 Most Frequently Appearing Unigrams and Bigrams for Disaster Tweets', fontsize=15)\n",
    "\n",
    "plt.show()"
   ]
  },
  {
   "cell_type": "markdown",
   "id": "90049825",
   "metadata": {},
   "source": [
    "# Splitting the dataset"
   ]
  },
  {
   "cell_type": "code",
   "execution_count": null,
   "id": "67244902",
   "metadata": {},
   "outputs": [],
   "source": [
    "train = df[df.target.notna()]\n",
    "test = df[df.target.isna()]"
   ]
  },
  {
   "cell_type": "code",
   "execution_count": null,
   "id": "91003116",
   "metadata": {},
   "outputs": [],
   "source": [
    "train['target'] = train.target.astype('int')"
   ]
  },
  {
   "cell_type": "code",
   "execution_count": null,
   "id": "371a5794",
   "metadata": {},
   "outputs": [],
   "source": [
    "test.drop('target',axis=1,inplace=True)"
   ]
  },
  {
   "cell_type": "code",
   "execution_count": null,
   "id": "7c246f24",
   "metadata": {},
   "outputs": [],
   "source": [
    "X = train.copy()\n",
    "X.drop('id', axis=1, inplace=True)\n",
    "y = X.pop('target')"
   ]
  },
  {
   "cell_type": "code",
   "execution_count": null,
   "id": "4cacb84a",
   "metadata": {},
   "outputs": [],
   "source": [
    "X_train, X_test, y_train, y_test = train_test_split(X,y,test_size=0.3, random_state=1, shuffle=True, stratify=y)"
   ]
  },
  {
   "cell_type": "markdown",
   "id": "aa50512c",
   "metadata": {},
   "source": [
    "# Column Transfer/Pipeline/Modelling"
   ]
  },
  {
   "cell_type": "markdown",
   "id": "0e9aa64b",
   "metadata": {},
   "source": [
    "cvec(1,1)"
   ]
  },
  {
   "cell_type": "code",
   "execution_count": null,
   "id": "9058abbf",
   "metadata": {
    "hide_input": true
   },
   "outputs": [],
   "source": [
    "# cvec = CountVectorizer(strip_accents='unicode', ngram_range=(1,1), min_df=5)\n",
    "# scaler = StandardScaler(with_mean=False, with_std=True)\n",
    "# col_trans = ColumnTransformer(\n",
    "# [('cvec_text', cvec, 'text')],\n",
    "# remainder='passthrough')\n",
    "\n",
    "# log_reg = LogisticRegression(max_iter=10000, solver= 'saga', random_state=1, n_jobs=-2)\n",
    "\n",
    "# log_reg_pipe = Pipeline(steps = [('col_trans', col_trans),\n",
    "#                         ('scaler', scaler),\n",
    "#                         ('log_reg', log_reg)])\n",
    "\n",
    "# log_reg_params = {'log_reg__C': np.logspace(-5, 5, 10),\n",
    "#                   'log_reg__penalty': ['l1', 'l2'],\n",
    "#                   'log_reg__fit_intercept': [True, False]}\n",
    "\n",
    "# gs_log_reg = GridSearchCV(log_reg_pipe, log_reg_params, cv=5, n_jobs=-2, verbose=1)"
   ]
  },
  {
   "cell_type": "code",
   "execution_count": null,
   "id": "41c14ace",
   "metadata": {
    "hide_input": true
   },
   "outputs": [],
   "source": [
    "# gs_log_reg.fit(X_train,y_train)\n",
    "\n",
    "# print(\"Training Score: {}\".format(gs_log_reg.score(X_train,y_train)))\n",
    "# print(\"Test Score: {}\".format(gs_log_reg.score(X_test,y_test)))\n",
    "# print(\"CV Mean Score: {}\".format(gs_log_reg.best_score_))\n",
    "# print(\"Best Model Parameters: {}\".format(gs_log_reg.best_params_))"
   ]
  },
  {
   "cell_type": "markdown",
   "id": "aef04e3f",
   "metadata": {},
   "source": [
    "cvec(2,2)"
   ]
  },
  {
   "cell_type": "code",
   "execution_count": null,
   "id": "d50564fb",
   "metadata": {
    "hide_input": true
   },
   "outputs": [],
   "source": [
    "# cvec = CountVectorizer(strip_accents='unicode', ngram_range=(2,2), min_df=5)\n",
    "# scaler = StandardScaler(with_mean=False, with_std=True)\n",
    "# col_trans = ColumnTransformer(\n",
    "# [('cvec_text', cvec, 'text')],\n",
    "# remainder='passthrough')\n",
    "\n",
    "# log_reg = LogisticRegression(max_iter=10000, solver= 'saga', random_state=1, n_jobs=-2)\n",
    "\n",
    "# log_reg_pipe = Pipeline(steps = [('col_trans', col_trans),\n",
    "#                         ('scaler', scaler),\n",
    "#                         ('log_reg', log_reg)])\n",
    "\n",
    "# log_reg_params = {'log_reg__C': np.logspace(-5, 5, 10),\n",
    "#                   'log_reg__penalty': ['l1', 'l2'],\n",
    "#                   'log_reg__fit_intercept': [True, False]}\n",
    "\n",
    "# gs_log_reg = GridSearchCV(log_reg_pipe, log_reg_params, cv=5, n_jobs=-2, verbose=1)"
   ]
  },
  {
   "cell_type": "code",
   "execution_count": null,
   "id": "eb90eb61",
   "metadata": {
    "hide_input": true
   },
   "outputs": [],
   "source": [
    "# gs_log_reg.fit(X_train,y_train)\n",
    "\n",
    "# print(\"Training Score: {}\".format(gs_log_reg.score(X_train,y_train)))\n",
    "# print(\"Test Score: {}\".format(gs_log_reg.score(X_test,y_test)))\n",
    "# print(\"CV Mean Score: {}\".format(gs_log_reg.best_score_))\n",
    "# print(\"Best Model Parameters: {}\".format(gs_log_reg.best_params_))"
   ]
  },
  {
   "cell_type": "markdown",
   "id": "f20f561b",
   "metadata": {},
   "source": [
    "tf-idfvec(1,1)"
   ]
  },
  {
   "cell_type": "code",
   "execution_count": null,
   "id": "527ca636",
   "metadata": {
    "hide_input": true
   },
   "outputs": [],
   "source": [
    "# tfvec = TfidfVectorizer(strip_accents='unicode',ngram_range=(1,1), min_df=5)\n",
    "# scaler = StandardScaler(with_mean=False, with_std=True)\n",
    "# col_trans = ColumnTransformer(\n",
    "# [('tfvec_text', tfvec, 'text')],\n",
    "# remainder='passthrough')\n",
    "\n",
    "# log_reg = LogisticRegression(max_iter=10000, solver= 'saga', random_state=1, n_jobs=-2)\n",
    "\n",
    "# log_reg_pipe = Pipeline(steps = [('col_trans', col_trans),\n",
    "#                         ('scaler', scaler),\n",
    "#                         ('log_reg', log_reg)])\n",
    "\n",
    "# log_reg_params = {'log_reg__C': np.logspace(-5, 5, 10),\n",
    "#                   'log_reg__penalty': ['l1', 'l2'],\n",
    "#                   'log_reg__fit_intercept': [True, False]}\n",
    "\n",
    "# gs_log_reg = GridSearchCV(log_reg_pipe, log_reg_params, cv=5, n_jobs=-2, verbose=1)"
   ]
  },
  {
   "cell_type": "code",
   "execution_count": null,
   "id": "ed990df5",
   "metadata": {
    "hide_input": true
   },
   "outputs": [],
   "source": [
    "# gs_log_reg.fit(X_train,y_train)\n",
    "\n",
    "# print(\"Training Score: {}\".format(gs_log_reg.score(X_train,y_train)))\n",
    "# print(\"Test Score: {}\".format(gs_log_reg.score(X_test,y_test)))\n",
    "# print(\"CV Mean Score: {}\".format(gs_log_reg.best_score_))\n",
    "# print(\"Best Model Parameters: {}\".format(gs_log_reg.best_params_))"
   ]
  },
  {
   "cell_type": "markdown",
   "id": "1e9ff760",
   "metadata": {},
   "source": [
    "tf-idfvec(2,2)"
   ]
  },
  {
   "cell_type": "code",
   "execution_count": null,
   "id": "6918c7b1",
   "metadata": {
    "hide_input": true
   },
   "outputs": [],
   "source": [
    "# tfvec = TfidfVectorizer(strip_accents='unicode',ngram_range=(2,2), min_df=5)\n",
    "# scaler = StandardScaler(with_mean=False, with_std=True)\n",
    "# col_trans = ColumnTransformer(\n",
    "# [('tfvec_text', tfvec, 'text')],\n",
    "# remainder='passthrough')\n",
    "\n",
    "# log_reg = LogisticRegression(max_iter=10000, solver= 'saga', random_state=1, n_jobs=-2)\n",
    "\n",
    "# log_reg_pipe = Pipeline(steps = [('col_trans', col_trans),\n",
    "#                         ('scaler', scaler),\n",
    "#                         ('log_reg', log_reg)])\n",
    "\n",
    "# log_reg_params = {'log_reg__C': np.logspace(-5, 5, 10),\n",
    "#                   'log_reg__penalty': ['l1', 'l2'],\n",
    "#                   'log_reg__fit_intercept': [True, False]}\n",
    "\n",
    "# gs_log_reg = GridSearchCV(log_reg_pipe, log_reg_params, cv=5, n_jobs=-2, verbose=1)"
   ]
  },
  {
   "cell_type": "code",
   "execution_count": null,
   "id": "fe7a65f7",
   "metadata": {
    "hide_input": true,
    "scrolled": false
   },
   "outputs": [],
   "source": [
    "# gs_log_reg.fit(X_train,y_train)\n",
    "\n",
    "# print(\"Training Score: {}\".format(gs_log_reg.score(X_train,y_train)))\n",
    "# print(\"Test Score: {}\".format(gs_log_reg.score(X_test,y_test)))\n",
    "# print(\"CV Mean Score: {}\".format(gs_log_reg.best_score_))\n",
    "# print(\"Best Model Parameters: {}\".format(gs_log_reg.best_params_))"
   ]
  },
  {
   "cell_type": "markdown",
   "id": "1bff562b",
   "metadata": {},
   "source": [
    "Cvec(1,1) - performs similar (higher test score, slightly lower cv mean) with a higher min_df_value"
   ]
  },
  {
   "cell_type": "code",
   "execution_count": null,
   "id": "3538b368",
   "metadata": {
    "hide_input": false
   },
   "outputs": [],
   "source": [
    "# cvec = CountVectorizer(strip_accents='unicode', ngram_range=(1,1), min_df=10)\n",
    "# scaler = StandardScaler(with_mean=False, with_std=True)\n",
    "# col_trans = ColumnTransformer(\n",
    "# [('cvec_text', cvec, 'text')],\n",
    "# remainder='passthrough')\n",
    "\n",
    "# log_reg = LogisticRegression(max_iter=10000, solver= 'saga', random_state=1, n_jobs=-2)\n",
    "\n",
    "# log_reg_pipe = Pipeline(steps = [('col_trans', col_trans),\n",
    "#                         ('scaler', scaler),\n",
    "#                         ('log_reg', log_reg)])\n",
    "\n",
    "# log_reg_params = {'log_reg__C': np.logspace(-5, 5, 10),\n",
    "#                   'log_reg__penalty': ['l2'],\n",
    "#                   'log_reg__fit_intercept': [True, False]}\n",
    "\n",
    "# gs_log_reg = GridSearchCV(log_reg_pipe, log_reg_params, cv=5, n_jobs=-2, verbose=1)"
   ]
  },
  {
   "cell_type": "code",
   "execution_count": null,
   "id": "41aaeb16",
   "metadata": {
    "hide_input": false
   },
   "outputs": [],
   "source": [
    "# gs_log_reg.fit(X_train,y_train)\n",
    "\n",
    "# print(\"Training Score: {}\".format(gs_log_reg.score(X_train,y_train)))\n",
    "# print(\"Test Score: {}\".format(gs_log_reg.score(X_test,y_test)))\n",
    "# print(\"CV Mean Score: {}\".format(gs_log_reg.best_score_))\n",
    "# print(\"Best Model Parameters: {}\".format(gs_log_reg.best_params_))"
   ]
  },
  {
   "cell_type": "code",
   "execution_count": null,
   "id": "9df3768f",
   "metadata": {},
   "outputs": [],
   "source": [
    "# joblib.dump(gs_log_reg.best_estimator_,'../nlp_disaster_tweets/jlib_files/gs_log_reg_best_estimator.jlib')"
   ]
  },
  {
   "cell_type": "code",
   "execution_count": null,
   "id": "56734036",
   "metadata": {},
   "outputs": [],
   "source": [
    "gs_log_reg_best_estimator = joblib.load('../nlp_disaster_tweets/jlib_files/gs_log_reg_best_estimator.jlib')"
   ]
  },
  {
   "cell_type": "markdown",
   "id": "454d9e5a",
   "metadata": {},
   "source": [
    "Marginally better score for ngram_range(1,2) - probably not worth the extra computational expense, however"
   ]
  },
  {
   "cell_type": "code",
   "execution_count": null,
   "id": "76b58bbe",
   "metadata": {
    "hide_input": true
   },
   "outputs": [],
   "source": [
    "# cvec = CountVectorizer(strip_accents='unicode', ngram_range=(1,2), min_df=10)\n",
    "# scaler = StandardScaler(with_mean=False, with_std=True)\n",
    "# col_trans = ColumnTransformer(\n",
    "# [('cvec_text', cvec, 'text')],\n",
    "# remainder='passthrough')\n",
    "\n",
    "# log_reg = LogisticRegression(max_iter=10000, solver= 'saga', random_state=1, n_jobs=-2)\n",
    "\n",
    "# log_reg_pipe = Pipeline(steps = [('col_trans', col_trans),\n",
    "#                         ('scaler', scaler),\n",
    "#                         ('log_reg', log_reg)])\n",
    "\n",
    "# log_reg_params = {'log_reg__C': np.logspace(-5, 5, 10),\n",
    "#                   'log_reg__penalty': ['l2'],\n",
    "#                   'log_reg__fit_intercept': [True, False]}\n",
    "\n",
    "# gs_log_reg = GridSearchCV(log_reg_pipe, log_reg_params, cv=5, n_jobs=-2, verbose=1)"
   ]
  },
  {
   "cell_type": "code",
   "execution_count": null,
   "id": "a9d91766",
   "metadata": {
    "hide_input": true
   },
   "outputs": [],
   "source": [
    "# gs_log_reg.fit(X_train,y_train)\n",
    "\n",
    "# print(\"Training Score: {}\".format(gs_log_reg.score(X_train,y_train)))\n",
    "# print(\"Test Score: {}\".format(gs_log_reg.score(X_test,y_test)))\n",
    "# print(\"CV Mean Score: {}\".format(gs_log_reg.best_score_))\n",
    "# print(\"Best Model Parameters: {}\".format(gs_log_reg.best_params_))"
   ]
  },
  {
   "cell_type": "markdown",
   "id": "f178a431",
   "metadata": {},
   "source": [
    "Decision Tree Classifier"
   ]
  },
  {
   "cell_type": "code",
   "execution_count": null,
   "id": "dbda033a",
   "metadata": {
    "hide_input": true
   },
   "outputs": [],
   "source": [
    "# cvec = CountVectorizer(strip_accents='unicode', ngram_range=(1,1), min_df=10)\n",
    "# scaler = StandardScaler(with_mean=False, with_std=True)\n",
    "# col_trans = ColumnTransformer(\n",
    "# [('cvec_text', cvec, 'text')],\n",
    "# remainder='passthrough')\n",
    "\n",
    "# dec_tree = DecisionTreeClassifier(random_state=1)\n",
    "\n",
    "# dec_tree_pipe = Pipeline(steps = [('col_trans', col_trans),\n",
    "#                         ('scaler', scaler),\n",
    "#                         ('dec_tree', dec_tree)])\n",
    "\n",
    "# dec_tree_params = {'dec_tree__max_depth': [None, 2, 5, 10, 15],\n",
    "#                   'dec_tree__max_features': ['auto', 'sqrt', 0.5]}\n",
    "\n",
    "# gs_dec_tree = GridSearchCV(dec_tree_pipe, dec_tree_params, cv=5, n_jobs=-2, verbose=1, scoring='accuracy')"
   ]
  },
  {
   "cell_type": "code",
   "execution_count": null,
   "id": "89969cc2",
   "metadata": {
    "hide_input": true
   },
   "outputs": [],
   "source": [
    "# gs_dec_tree.fit(X_train,y_train)\n",
    "\n",
    "# print(\"Training Score: {}\".format(gs_dec_tree.score(X_train,y_train)))\n",
    "# print(\"Test Score: {}\".format(gs_dec_tree.score(X_test,y_test)))\n",
    "# print(\"CV Mean Score: {}\".format(gs_dec_tree.best_score_))\n",
    "# print(\"Best Model Parameters: {}\".format(gs_dec_tree.best_params_))"
   ]
  },
  {
   "cell_type": "markdown",
   "id": "955731d3",
   "metadata": {},
   "source": [
    "Random Forest Classifier"
   ]
  },
  {
   "cell_type": "code",
   "execution_count": null,
   "id": "8a8d027f",
   "metadata": {
    "hide_input": true
   },
   "outputs": [],
   "source": [
    "# cvec = CountVectorizer(strip_accents='unicode', ngram_range=(1,1), min_df=10)\n",
    "# scaler = StandardScaler(with_mean=False, with_std=True)\n",
    "# col_trans = ColumnTransformer(\n",
    "# [('cvec_text', cvec, 'text')],\n",
    "# remainder='passthrough')\n",
    "\n",
    "# rand_for = RandomForestClassifier(random_state=1,)\n",
    "\n",
    "# rand_for_pipe = Pipeline(steps = [('col_trans', col_trans),\n",
    "#                         ('scaler', scaler),\n",
    "#                         ('rand_for', rand_for)])\n",
    "\n",
    "# rand_for_params = {'rand_for__n_estimators': [150],\n",
    "#                    'rand_for__max_depth': [None, 10, 20],\n",
    "#                   'rand_for__max_features': ['auto', 'sqrt'],\n",
    "#                   'rand_for__max_samples': [None, 0.4],\n",
    "#                   'rand_for__class_weight': ['balanced', None]}\n",
    "\n",
    "# gs_rand_for = GridSearchCV(rand_for_pipe, rand_for_params, cv=5, verbose=1, n_jobs=-2)"
   ]
  },
  {
   "cell_type": "code",
   "execution_count": null,
   "id": "d9d049b9",
   "metadata": {
    "hide_input": true
   },
   "outputs": [],
   "source": [
    "gs_rand_for.fit(X_train,y_train)\n",
    "\n",
    "print(\"Training Score: {}\".format(gs_rand_for.score(X_train,y_train)))\n",
    "print(\"Test Score: {}\".format(gs_rand_for.score(X_test,y_test)))\n",
    "print(\"CV Mean Score: {}\".format(gs_rand_for.best_score_))\n",
    "print(\"Best Model Parameters: {}\".format(gs_rand_for.best_params_))"
   ]
  },
  {
   "cell_type": "code",
   "execution_count": null,
   "id": "fe509551",
   "metadata": {},
   "outputs": [],
   "source": [
    "# confusion_matrix(y_test, gs_rand_for.predict(X_test))"
   ]
  },
  {
   "cell_type": "code",
   "execution_count": null,
   "id": "db130363",
   "metadata": {
    "hide_input": false,
    "scrolled": true
   },
   "outputs": [],
   "source": [
    "# print(classification_report(y_test, gs_rand_for.predict(X_test)))"
   ]
  },
  {
   "cell_type": "markdown",
   "id": "ea1a596c",
   "metadata": {},
   "source": [
    "K Nearest Neighbours Classifier"
   ]
  },
  {
   "cell_type": "code",
   "execution_count": null,
   "id": "766234d6",
   "metadata": {
    "hide_input": true
   },
   "outputs": [],
   "source": [
    "# cvec = CountVectorizer(strip_accents='unicode', ngram_range=(1,1), min_df=10)\n",
    "# scaler = StandardScaler(with_mean=False, with_std=True)\n",
    "# col_trans = ColumnTransformer(\n",
    "# [('cvec_text', cvec, 'text')],\n",
    "# remainder='passthrough')\n",
    "\n",
    "# knn = KNeighborsClassifier()\n",
    "\n",
    "# knn_pipe = Pipeline(steps = [('col_trans', col_trans),\n",
    "#                         ('scaler', scaler),\n",
    "#                         ('knn', knn)])\n",
    "\n",
    "# knn_params = {'knn__n_neighbors': [2,5,10,20],\n",
    "#              'knn__weights': ['uniform', 'distance']}\n",
    "\n",
    "# gs_knn = GridSearchCV(knn_pipe, knn_params, cv=5, verbose=1, n_jobs=-2)"
   ]
  },
  {
   "cell_type": "code",
   "execution_count": null,
   "id": "1df98d4a",
   "metadata": {
    "hide_input": true
   },
   "outputs": [],
   "source": [
    "# gs_knn.fit(X_train,y_train)\n",
    "\n",
    "# print(\"Training Score: {}\".format(gs_knn.score(X_train,y_train)))\n",
    "# print(\"Test Score: {}\".format(gs_knn.score(X_test,y_test)))\n",
    "# print(\"CV Mean Score: {}\".format(gs_knn.best_score_))\n",
    "# print(\"Best Model Parameters: {}\".format(gs_knn.best_params_))"
   ]
  },
  {
   "cell_type": "code",
   "execution_count": null,
   "id": "9867222d",
   "metadata": {},
   "outputs": [],
   "source": [
    "# confusion_matrix(y_test, gs_knn.predict(X_test))"
   ]
  },
  {
   "cell_type": "code",
   "execution_count": null,
   "id": "54569008",
   "metadata": {
    "scrolled": false
   },
   "outputs": [],
   "source": [
    "# print(classification_report(y_test, gs_knn.predict(X_test)))"
   ]
  },
  {
   "cell_type": "markdown",
   "id": "0ce74a8f",
   "metadata": {},
   "source": [
    "Support Vector Classifier"
   ]
  },
  {
   "cell_type": "code",
   "execution_count": null,
   "id": "e327ef47",
   "metadata": {
    "hide_input": true
   },
   "outputs": [],
   "source": [
    "# cvec = CountVectorizer(strip_accents='unicode', ngram_range=(1,1), min_df=10)\n",
    "# scaler = StandardScaler(with_mean=False, with_std=True)\n",
    "# col_trans = ColumnTransformer(\n",
    "# [('cvec_text', cvec, 'text')],\n",
    "# remainder='passthrough')\n",
    "\n",
    "# svc = SVC(random_state=1)\n",
    "\n",
    "# svc_pipe = Pipeline(steps = [('col_trans', col_trans),\n",
    "#                         ('scaler', scaler),\n",
    "#                         ('svc', svc)])"
   ]
  },
  {
   "cell_type": "code",
   "execution_count": null,
   "id": "696c8c06",
   "metadata": {
    "hide_input": true
   },
   "outputs": [],
   "source": [
    "# svc_pipe.fit(X_train,y_train)\n",
    "\n",
    "# print(\"Training Score: {}\".format(svc_pipe.score(X_train,y_train)))\n",
    "# print(\"Test Score: {}\".format(svc_pipe.score(X_test,y_test)))\n",
    "# print(\"CV Mean Score: {}\".format(cross_val_score(svc_pipe, X_train, y_train, cv=5, n_jobs=-2, verbose=1).mean()))"
   ]
  },
  {
   "cell_type": "markdown",
   "id": "de68fc74",
   "metadata": {},
   "source": [
    "Grid searched SVC"
   ]
  },
  {
   "cell_type": "code",
   "execution_count": null,
   "id": "6e635556",
   "metadata": {
    "hide_input": true
   },
   "outputs": [],
   "source": [
    "# cvec = CountVectorizer(strip_accents='unicode', ngram_range=(1,1), min_df=10)\n",
    "# scaler = StandardScaler(with_mean=False, with_std=True)\n",
    "# col_trans = ColumnTransformer(\n",
    "# [('cvec_text', cvec, 'text')],\n",
    "# remainder='passthrough')\n",
    "\n",
    "# svc = SVC(kernel='rbf', random_state=1)\n",
    "\n",
    "# svc_pipe = Pipeline(steps = [('col_trans', col_trans),\n",
    "#                         ('scaler', scaler),\n",
    "#                         ('svc', svc)])\n",
    "\n",
    "# svc_params = {'svc__C': np.logspace(-2, 2, 10),\n",
    "#               'svc__gamma': np.linspace(0.01, 2, 10)}\n",
    "\n",
    "# gs_svc = GridSearchCV(svc_pipe, svc_params, cv=5, n_jobs=-2, verbose=1)"
   ]
  },
  {
   "cell_type": "code",
   "execution_count": null,
   "id": "c7693f60",
   "metadata": {
    "hide_input": true
   },
   "outputs": [],
   "source": [
    "# gs_svc.fit(X_train,y_train)\n",
    "\n",
    "# print(\"Training Score: {}\".format(gs_svc.score(X_train,y_train)))\n",
    "# print(\"Test Score: {}\".format(gs_svc.score(X_test,y_test)))\n",
    "# print(\"CV Mean Score: {}\".format(gs_svc.best_score_))\n",
    "# print(\"Best Model Parameters: {}\".format(gs_svc.best_params_))"
   ]
  },
  {
   "cell_type": "markdown",
   "id": "7b22e2fd",
   "metadata": {},
   "source": [
    "Guidance: http://localhost:8888/notebooks/Desktop/GA_DSI/DSI17-lessons/week05/day1_gridsearch_and_pipelines/classification-review/Logistic_regression_review.ipynb"
   ]
  },
  {
   "cell_type": "markdown",
   "id": "2427abbf",
   "metadata": {},
   "source": [
    "Grid searching logistic regression again"
   ]
  },
  {
   "cell_type": "code",
   "execution_count": null,
   "id": "9c20ba88",
   "metadata": {
    "hide_input": false
   },
   "outputs": [],
   "source": [
    "cvec = CountVectorizer(strip_accents='unicode', ngram_range=(1,1), min_df=10)\n",
    "scaler = StandardScaler(with_mean=False, with_std=True)\n",
    "col_trans = ColumnTransformer(\n",
    "[('cvec_text', cvec, 'text')],\n",
    "remainder='passthrough')\n",
    "\n",
    "log_reg = LogisticRegression(max_iter=10000, penalty= 'l2', solver= 'saga', random_state=1, n_jobs=-2)\n",
    "\n",
    "log_reg_pipe = Pipeline(steps = [('col_trans', col_trans),\n",
    "                        ('scaler', scaler),\n",
    "                        ('log_reg', log_reg)])\n",
    "\n",
    "log_reg_params = {'log_reg__C': np.logspace(-5, 5, 5)}\n",
    "\n",
    "gs_log_reg = GridSearchCV(log_reg_pipe, log_reg_params, cv=5,scoring='f1', n_jobs=-2, verbose=1)"
   ]
  },
  {
   "cell_type": "code",
   "execution_count": null,
   "id": "cec9dddc",
   "metadata": {
    "hide_input": false
   },
   "outputs": [],
   "source": [
    "gs_log_reg.fit(X_train,y_train)\n",
    "\n",
    "print(\"Training Score: {}\".format(gs_log_reg.score(X_train,y_train)))\n",
    "print(\"Test Score: {}\".format(gs_log_reg.score(X_test,y_test)))\n",
    "print(\"CV Mean Score: {}\".format(gs_log_reg.best_score_))\n",
    "print(\"Best Model Parameters: {}\".format(gs_log_reg.best_params_))"
   ]
  },
  {
   "cell_type": "code",
   "execution_count": null,
   "id": "7a8eb7b1",
   "metadata": {},
   "outputs": [],
   "source": [
    "print(classification_report(y_test, gs_log_reg.predict(X_test)))"
   ]
  },
  {
   "cell_type": "code",
   "execution_count": null,
   "id": "6e3de5a6",
   "metadata": {},
   "outputs": [],
   "source": [
    "from sklearn.metrics import f1_score"
   ]
  },
  {
   "cell_type": "code",
   "execution_count": null,
   "id": "0eadf3c1",
   "metadata": {},
   "outputs": [],
   "source": [
    "f1_score(y_test, gs_log_reg.predict(X_test))"
   ]
  },
  {
   "cell_type": "code",
   "execution_count": null,
   "id": "01d6c803",
   "metadata": {},
   "outputs": [],
   "source": [
    "# joblib.dump(gs_log_reg.best_estimator_,'../nlp_disaster_tweets/jlib_files/gs_log_reg_best_estimator.jlib')"
   ]
  },
  {
   "cell_type": "code",
   "execution_count": null,
   "id": "4754bf66",
   "metadata": {},
   "outputs": [],
   "source": [
    "# gs_log_reg_best_estimator = joblib.load('../nlp_disaster_tweets/jlib_files/gs_log_reg_best_estimator.jlib')"
   ]
  },
  {
   "cell_type": "markdown",
   "id": "b416d9e2",
   "metadata": {},
   "source": [
    "# THERE MUST BE WAYS TO USE LOCATION AND KEYWORD:\n",
    "    - COUNT VECTORIZE THEM TO SEE IF WE CAN EXTRACT KEY WORDS USING VOCABIULARY?\n",
    "    - DUMMIFY THE KEYWORD CATEGORY"
   ]
  },
  {
   "cell_type": "markdown",
   "id": "aa206db9",
   "metadata": {
    "hide_input": true
   },
   "source": [
    "### To-do list:\n",
    "\n",
    "- create broader categories for the keyword and, potentially, location columns\n",
    "- use more visualizations through the data cleaning process (to start with: countvectorize before any data cleaning has started to show the words that appear the most frequently)\n",
    "\n",
    "\n",
    "#### Text Pre-processing\n",
    "\n",
    "- ~~check the language that the tweet is written in~~\n",
    "- ~~remove digits~~\n",
    "- ~~expand contractions~~\n",
    "- ~~convert to lowercase~\n",
    "- ~~remove punctuation~~ (maybe include meta-data for punctuation instead?)\n",
    "- ~~tokenize words~~\n",
    "- ~~lemmatize words~~\n",
    "- ~~remove stop-words~~\n",
    "- ~~hashtag extraction~~\n",
    "\n",
    "- ~~does the text contain emojis?~~\n",
    "\n",
    "#### Feature Engineering\n",
    "\n",
    "- ~~meta-data~~\n",
    "    - - ~~how many hash-tags each tweet contains~~\n",
    "    - ~~no. of emojis~~\n",
    "    - ~~number of words~~\n",
    "    - ~~number of characters~~\n",
    "- convert keyword column using techniques discussed here: https://www.kaggle.com/bandits/using-keywords-for-prediction-improvement\n",
    "- ~~average word length~~\n",
    "- use spacy to extract location from location variable\n",
    "\n",
    "#### EDA\n",
    "\n",
    "- ~~before data cleaning - show number of tweets for each class~~\n",
    "- ~~do more basic visualisations to back up decisions~~\n",
    "- word clouds for each target variable\n",
    "- ~~seperate the below by each target variable~~\n",
    "    - ~~number of characters in each tweet (make histogram)~~\n",
    "    - ~~average word length in each sentence (make histogram)~~\n",
    "    - ~~most commonly appearing ngrams of various lengths~~\n",
    "    - ~~use speech tagging~~\n",
    "    - ~~frequency of most common words~~\n",
    "    \n",
    "#### Other\n",
    "\n",
    "- Research the use of LDA and NMF\n",
    "    \n",
    "    \n",
    "Useful articles: \n",
    "\n",
    "https://towardsdatascience.com/preprocessing-text-data-using-python-576206753c28\n",
    "\n",
    "https://towardsdatascience.com/basic-tweet-preprocessing-in-python-efd8360d529e\n",
    "\n",
    "https://medium.com/spatial-data-science/how-to-extract-locations-from-text-with-natural-language-processing-9b77035b3ea4\n",
    "\n"
   ]
  },
  {
   "cell_type": "markdown",
   "id": "9ef759a6",
   "metadata": {},
   "source": [
    "TBC: https://towardsdatascience.com/preprocessing-text-data-using-python-576206753c28"
   ]
  }
 ],
 "metadata": {
  "kernelspec": {
   "display_name": "Python 3",
   "language": "python",
   "name": "python3"
  },
  "language_info": {
   "codemirror_mode": {
    "name": "ipython",
    "version": 3
   },
   "file_extension": ".py",
   "mimetype": "text/x-python",
   "name": "python",
   "nbconvert_exporter": "python",
   "pygments_lexer": "ipython3",
   "version": "3.8.8"
  },
  "toc": {
   "base_numbering": 1,
   "nav_menu": {},
   "number_sections": false,
   "sideBar": true,
   "skip_h1_title": false,
   "title_cell": "Table of Contents",
   "title_sidebar": "Contents",
   "toc_cell": false,
   "toc_position": {},
   "toc_section_display": true,
   "toc_window_display": false
  },
  "varInspector": {
   "cols": {
    "lenName": 16,
    "lenType": 16,
    "lenVar": 40
   },
   "kernels_config": {
    "python": {
     "delete_cmd_postfix": "",
     "delete_cmd_prefix": "del ",
     "library": "var_list.py",
     "varRefreshCmd": "print(var_dic_list())"
    },
    "r": {
     "delete_cmd_postfix": ") ",
     "delete_cmd_prefix": "rm(",
     "library": "var_list.r",
     "varRefreshCmd": "cat(var_dic_list()) "
    }
   },
   "types_to_exclude": [
    "module",
    "function",
    "builtin_function_or_method",
    "instance",
    "_Feature"
   ],
   "window_display": false
  }
 },
 "nbformat": 4,
 "nbformat_minor": 5
}
