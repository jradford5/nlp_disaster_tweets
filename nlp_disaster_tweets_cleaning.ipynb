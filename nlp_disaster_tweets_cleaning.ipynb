{
 "cells": [
  {
   "cell_type": "markdown",
   "id": "27dccb61",
   "metadata": {},
   "source": [
    "Data sourced from Kaggle competition [Natural Language Processing with Disaster Tweets](https://www.kaggle.com/c/nlp-getting-started/overview)"
   ]
  },
  {
   "cell_type": "code",
   "execution_count": 53,
   "id": "3d54f447",
   "metadata": {},
   "outputs": [],
   "source": [
    "# import core libraries\n",
    "\n",
    "import pandas as pd\n",
    "import numpy as np\n",
    "import matplotlib.pyplot as plt\n",
    "import seaborn as sns"
   ]
  },
  {
   "cell_type": "code",
   "execution_count": 54,
   "id": "a9f6db65",
   "metadata": {},
   "outputs": [],
   "source": [
    "import joblib"
   ]
  },
  {
   "cell_type": "code",
   "execution_count": 55,
   "id": "d110d740",
   "metadata": {},
   "outputs": [],
   "source": [
    "# pre-processing\n",
    "\n",
    "from sklearn.feature_extraction.text import CountVectorizer\n",
    "from sklearn.feature_extraction.text import TfidfVectorizer\n",
    "from sklearn.pipeline import make_pipeline\n",
    "from sklearn.preprocessing import OneHotEncoder, StandardScaler\n",
    "from sklearn.compose import ColumnTransformer\n",
    "\n",
    "import nltk\n",
    "from textblob import TextBlob\n",
    "from langdetect import detect\n",
    "\n",
    "import contractions"
   ]
  },
  {
   "cell_type": "code",
   "execution_count": 56,
   "id": "389922b9",
   "metadata": {},
   "outputs": [],
   "source": [
    "# modelling\n",
    "\n",
    "from sklearn.linear_model import LogisticRegression, LogisticRegressionCV\n",
    "from sklearn.neighbors import KNeighborsClassifier\n",
    "from sklearn.tree import DecisionTreeClassifier\n",
    "from sklearn.svm import SVC\n",
    "from sklearn.ensemble import RandomForestClassifier\n",
    "\n",
    "from sklearn.model_selection import train_test_split, cross_val_score, GridSearchCV"
   ]
  },
  {
   "cell_type": "code",
   "execution_count": 57,
   "id": "992c4ea5",
   "metadata": {},
   "outputs": [],
   "source": [
    "# metrics/evaluation\n",
    "\n",
    "import scikitplot as skplt\n",
    "from matplotlib.colors import ListedColormap\n",
    "from sklearn.metrics import confusion_matrix, accuracy_score, classification_report"
   ]
  },
  {
   "cell_type": "code",
   "execution_count": 58,
   "id": "f8f9a9cd",
   "metadata": {},
   "outputs": [],
   "source": [
    "# instantiating the train and test sets\n",
    "\n",
    "train = pd.read_csv('data/train.csv')\n",
    "test =  pd.read_csv('data/test.csv')"
   ]
  },
  {
   "cell_type": "code",
   "execution_count": 59,
   "id": "b056ba51",
   "metadata": {},
   "outputs": [],
   "source": [
    "# combining the train and test sets for the purpose of EDA and Data Cleaning/Feature Engineering\n",
    "\n",
    "df = pd.concat([train, test], ignore_index=True)"
   ]
  },
  {
   "cell_type": "code",
   "execution_count": 60,
   "id": "0ff5bfc3",
   "metadata": {},
   "outputs": [
    {
     "name": "stdout",
     "output_type": "stream",
     "text": [
      "Training Dataframe Shape: (7613, 5)\n",
      "Test Dataframe Shape: (3263, 4)\n",
      "Combined Dataframe Shape: (10876, 5)\n"
     ]
    }
   ],
   "source": [
    "print(\"Training Dataframe Shape: {}\".format(str(train.shape)))\n",
    "print(\"Test Dataframe Shape: {}\".format(str(test.shape)))\n",
    "print(\"Combined Dataframe Shape: {}\".format(str(df.shape)))"
   ]
  },
  {
   "cell_type": "code",
   "execution_count": 61,
   "id": "ed0e5598",
   "metadata": {},
   "outputs": [
    {
     "data": {
      "text/html": [
       "<div>\n",
       "<style scoped>\n",
       "    .dataframe tbody tr th:only-of-type {\n",
       "        vertical-align: middle;\n",
       "    }\n",
       "\n",
       "    .dataframe tbody tr th {\n",
       "        vertical-align: top;\n",
       "    }\n",
       "\n",
       "    .dataframe thead th {\n",
       "        text-align: right;\n",
       "    }\n",
       "</style>\n",
       "<table border=\"1\" class=\"dataframe\">\n",
       "  <thead>\n",
       "    <tr style=\"text-align: right;\">\n",
       "      <th></th>\n",
       "      <th>id</th>\n",
       "      <th>keyword</th>\n",
       "      <th>location</th>\n",
       "      <th>text</th>\n",
       "      <th>target</th>\n",
       "    </tr>\n",
       "  </thead>\n",
       "  <tbody>\n",
       "    <tr>\n",
       "      <th>0</th>\n",
       "      <td>1</td>\n",
       "      <td>NaN</td>\n",
       "      <td>NaN</td>\n",
       "      <td>Our Deeds are the Reason of this #earthquake M...</td>\n",
       "      <td>1.0</td>\n",
       "    </tr>\n",
       "    <tr>\n",
       "      <th>1</th>\n",
       "      <td>4</td>\n",
       "      <td>NaN</td>\n",
       "      <td>NaN</td>\n",
       "      <td>Forest fire near La Ronge Sask. Canada</td>\n",
       "      <td>1.0</td>\n",
       "    </tr>\n",
       "    <tr>\n",
       "      <th>2</th>\n",
       "      <td>5</td>\n",
       "      <td>NaN</td>\n",
       "      <td>NaN</td>\n",
       "      <td>All residents asked to 'shelter in place' are ...</td>\n",
       "      <td>1.0</td>\n",
       "    </tr>\n",
       "    <tr>\n",
       "      <th>3</th>\n",
       "      <td>6</td>\n",
       "      <td>NaN</td>\n",
       "      <td>NaN</td>\n",
       "      <td>13,000 people receive #wildfires evacuation or...</td>\n",
       "      <td>1.0</td>\n",
       "    </tr>\n",
       "    <tr>\n",
       "      <th>4</th>\n",
       "      <td>7</td>\n",
       "      <td>NaN</td>\n",
       "      <td>NaN</td>\n",
       "      <td>Just got sent this photo from Ruby #Alaska as ...</td>\n",
       "      <td>1.0</td>\n",
       "    </tr>\n",
       "  </tbody>\n",
       "</table>\n",
       "</div>"
      ],
      "text/plain": [
       "   id keyword location                                               text  \\\n",
       "0   1     NaN      NaN  Our Deeds are the Reason of this #earthquake M...   \n",
       "1   4     NaN      NaN             Forest fire near La Ronge Sask. Canada   \n",
       "2   5     NaN      NaN  All residents asked to 'shelter in place' are ...   \n",
       "3   6     NaN      NaN  13,000 people receive #wildfires evacuation or...   \n",
       "4   7     NaN      NaN  Just got sent this photo from Ruby #Alaska as ...   \n",
       "\n",
       "   target  \n",
       "0     1.0  \n",
       "1     1.0  \n",
       "2     1.0  \n",
       "3     1.0  \n",
       "4     1.0  "
      ]
     },
     "execution_count": 61,
     "metadata": {},
     "output_type": "execute_result"
    }
   ],
   "source": [
    "# example of tweets\n",
    "\n",
    "df.head()"
   ]
  },
  {
   "cell_type": "code",
   "execution_count": 62,
   "id": "aaf5faec",
   "metadata": {},
   "outputs": [
    {
     "name": "stdout",
     "output_type": "stream",
     "text": [
      "<class 'pandas.core.frame.DataFrame'>\n",
      "RangeIndex: 10876 entries, 0 to 10875\n",
      "Data columns (total 5 columns):\n",
      " #   Column    Non-Null Count  Dtype  \n",
      "---  ------    --------------  -----  \n",
      " 0   id        10876 non-null  int64  \n",
      " 1   keyword   10789 non-null  object \n",
      " 2   location  7238 non-null   object \n",
      " 3   text      10876 non-null  object \n",
      " 4   target    7613 non-null   float64\n",
      "dtypes: float64(1), int64(1), object(3)\n",
      "memory usage: 425.0+ KB\n"
     ]
    }
   ],
   "source": [
    "df.info()"
   ]
  },
  {
   "cell_type": "markdown",
   "id": "1b4aaee5",
   "metadata": {},
   "source": [
    "### Dealing with null values"
   ]
  },
  {
   "cell_type": "code",
   "execution_count": 63,
   "id": "b7524c9e",
   "metadata": {},
   "outputs": [
    {
     "data": {
      "text/plain": [
       "id             0\n",
       "keyword       87\n",
       "location    3638\n",
       "text           0\n",
       "target      3263\n",
       "dtype: int64"
      ]
     },
     "execution_count": 63,
     "metadata": {},
     "output_type": "execute_result"
    }
   ],
   "source": [
    "# null values in the training set\n",
    "\n",
    "df.isnull().sum()"
   ]
  },
  {
   "cell_type": "code",
   "execution_count": 67,
   "id": "1b532654",
   "metadata": {},
   "outputs": [],
   "source": [
    "# creating a new category for the null keyword and location values\n",
    "\n",
    "df.fillna({'keyword': 'unknown', 'location': 'unknown'},inplace=True)"
   ]
  },
  {
   "cell_type": "markdown",
   "id": "19e55256",
   "metadata": {},
   "source": [
    "### Keyword"
   ]
  },
  {
   "cell_type": "code",
   "execution_count": 74,
   "id": "87826b53",
   "metadata": {},
   "outputs": [],
   "source": [
    "keyword = df.keyword.apply(lambda x: \"No\" if x==\"unknown\" else \"Yes\")"
   ]
  },
  {
   "cell_type": "code",
   "execution_count": 94,
   "id": "6e3414b5",
   "metadata": {},
   "outputs": [
    {
     "data": {
      "image/png": "[encoded data removed]",
      "text/plain": [
       "<Figure size 432x288 with 1 Axes>"
      ]
     },
     "metadata": {
      "needs_background": "light"
     },
     "output_type": "display_data"
    }
   ],
   "source": [
    "df.keyword.value_counts().plot.hist()\n",
    "\n",
    "plt.show()"
   ]
  },
  {
   "cell_type": "code",
   "execution_count": 113,
   "id": "0662ffa7",
   "metadata": {},
   "outputs": [
    {
     "data": {
      "image/png": "[encoded data removed]",
      "text/plain": [
       "<Figure size 1152x720 with 2 Axes>"
      ]
     },
     "metadata": {
      "needs_background": "light"
     },
     "output_type": "display_data"
    }
   ],
   "source": [
    "fig,ax = plt.subplots(2,1,figsize=(16,10))\n",
    "\n",
    "df[df.target==0].keyword.value_counts(ascending=True).tail(20).plot.barh(ax=ax[0])\n",
    "df[df.target==1].keyword.value_counts(ascending=True).tail(20).plot.barh(ax=ax[1])\n",
    "\n",
    "ax[0].set_title('Non-Disaster Tweets')\n",
    "ax[1].set_title('Disaster Tweets')\n",
    "\n",
    "fig.suptitle('Most Common Keywords', fontsize=15)\n",
    "\n",
    "plt.show()"
   ]
  },
  {
   "cell_type": "code",
   "execution_count": 117,
   "id": "080f63c5",
   "metadata": {},
   "outputs": [],
   "source": [
    "# cleaning the keyword column\n",
    "\n",
    "df.replace({'keyword': '%20'}, {'keyword': '_'}, inplace=True, regex=True)"
   ]
  },
  {
   "cell_type": "code",
   "execution_count": 123,
   "id": "a89776ec",
   "metadata": {},
   "outputs": [
    {
     "data": {
      "text/plain": [
       "1018    @FoxNews @JenGriffinFNC When you call to repor...\n",
       "1019    Micom 2015 Summer Contrast Candy Color Bowknot...\n",
       "1020    HOBO Hobo Vintage Shira Convertible BÛ_ $238....\n",
       "1021    Child Shoulder Bags PVC Shoulder Book Bag Cart...\n",
       "1022    Womens Buckle Casual Stylish Shoulder Handbags...\n",
       "Name: text, dtype: object"
      ]
     },
     "execution_count": 123,
     "metadata": {},
     "output_type": "execute_result"
    }
   ],
   "source": [
    "df[df.keyword=='body_bags'].text.head()"
   ]
  },
  {
   "cell_type": "markdown",
   "id": "57982659",
   "metadata": {},
   "source": [
    "My takings from this is that the keywords column won't be very helpful in determining whether a tweet is related to a disaster or not. I would theorize that the keywords were used to decide which tweets should be included in this dataset, though, as they refer to ambiguous topics that may or may not be natural disasters."
   ]
  },
  {
   "cell_type": "markdown",
   "id": "93b56ce0",
   "metadata": {},
   "source": [
    "### Location"
   ]
  },
  {
   "cell_type": "code",
   "execution_count": 17,
   "id": "dae61b9b",
   "metadata": {
    "scrolled": false
   },
   "outputs": [
    {
     "data": {
      "text/plain": [
       "unknown            3638\n",
       "USA                 141\n",
       "New York            109\n",
       "United States        65\n",
       "London               58\n",
       "Canada               42\n",
       "Nigeria              40\n",
       "India                35\n",
       "Worldwide            35\n",
       "Los Angeles, CA      34\n",
       "UK                   33\n",
       "Kenya                32\n",
       "Washington, DC       31\n",
       "Mumbai               28\n",
       "United Kingdom       26\n",
       "California           25\n",
       "Australia            25\n",
       "Los Angeles          24\n",
       "San Francisco        23\n",
       "Chicago, IL          23\n",
       "Name: location, dtype: int64"
      ]
     },
     "execution_count": 17,
     "metadata": {},
     "output_type": "execute_result"
    }
   ],
   "source": [
    "# given how messy and the location column is, it's unlikely that we'll be able to clean it for modelling purposes\n",
    "\n",
    "df.location.value_counts().head(20)"
   ]
  },
  {
   "cell_type": "markdown",
   "id": "7f1e0291",
   "metadata": {},
   "source": [
    "# Text\n",
    "\n",
    "### Language"
   ]
  },
  {
   "cell_type": "code",
   "execution_count": 18,
   "id": "62c30c55",
   "metadata": {},
   "outputs": [],
   "source": [
    "# checking that all tweets are in English\n",
    "\n",
    "# lang_series = df.text.apply(lambda x: detect(x))"
   ]
  },
  {
   "cell_type": "code",
   "execution_count": 19,
   "id": "4cbb31c5",
   "metadata": {},
   "outputs": [],
   "source": [
    "# saving lang_series as a joblib file\n",
    "\n",
    "# joblib.dump(lang_series, 'jlib_files/lang_series.jlib')"
   ]
  },
  {
   "cell_type": "code",
   "execution_count": 20,
   "id": "88fd48c5",
   "metadata": {},
   "outputs": [],
   "source": [
    "# loading lang_series jlib file\n",
    "\n",
    "lang_series = joblib.load('jlib_files/lang_series.jlib')"
   ]
  },
  {
   "cell_type": "code",
   "execution_count": 21,
   "id": "f4c25239",
   "metadata": {},
   "outputs": [],
   "source": [
    "df['language'] = lang_series"
   ]
  },
  {
   "cell_type": "code",
   "execution_count": 22,
   "id": "c09e030d",
   "metadata": {},
   "outputs": [
    {
     "data": {
      "text/html": [
       "<div>\n",
       "<style scoped>\n",
       "    .dataframe tbody tr th:only-of-type {\n",
       "        vertical-align: middle;\n",
       "    }\n",
       "\n",
       "    .dataframe tbody tr th {\n",
       "        vertical-align: top;\n",
       "    }\n",
       "\n",
       "    .dataframe thead th {\n",
       "        text-align: right;\n",
       "    }\n",
       "</style>\n",
       "<table border=\"1\" class=\"dataframe\">\n",
       "  <thead>\n",
       "    <tr style=\"text-align: right;\">\n",
       "      <th></th>\n",
       "      <th>id</th>\n",
       "      <th>keyword</th>\n",
       "      <th>location</th>\n",
       "      <th>text</th>\n",
       "      <th>target</th>\n",
       "      <th>language</th>\n",
       "    </tr>\n",
       "  </thead>\n",
       "  <tbody>\n",
       "    <tr>\n",
       "      <th>10621</th>\n",
       "      <td>9936</td>\n",
       "      <td>trouble</td>\n",
       "      <td>??9?</td>\n",
       "      <td>Mouna gonna get me in trouble</td>\n",
       "      <td>NaN</td>\n",
       "      <td>fr</td>\n",
       "    </tr>\n",
       "    <tr>\n",
       "      <th>9606</th>\n",
       "      <td>6717</td>\n",
       "      <td>lava</td>\n",
       "      <td>Budgam kashmir</td>\n",
       "      <td>@Lavamobiles    ..i have lava iris 3G 402</td>\n",
       "      <td>NaN</td>\n",
       "      <td>ca</td>\n",
       "    </tr>\n",
       "    <tr>\n",
       "      <th>831</th>\n",
       "      <td>1208</td>\n",
       "      <td>blizzard</td>\n",
       "      <td>unknown</td>\n",
       "      <td>Lizard Wizard in a Blizzard #LWB http://t.co/M...</td>\n",
       "      <td>0.0</td>\n",
       "      <td>it</td>\n",
       "    </tr>\n",
       "    <tr>\n",
       "      <th>7011</th>\n",
       "      <td>10050</td>\n",
       "      <td>twister</td>\n",
       "      <td>instagram: bribriony</td>\n",
       "      <td>Drunk twister is so hard ????</td>\n",
       "      <td>0.0</td>\n",
       "      <td>de</td>\n",
       "    </tr>\n",
       "    <tr>\n",
       "      <th>1109</th>\n",
       "      <td>1602</td>\n",
       "      <td>bombed</td>\n",
       "      <td>unknown</td>\n",
       "      <td>@BrodyFrieling @hanna_brooksie photo bombed</td>\n",
       "      <td>0.0</td>\n",
       "      <td>af</td>\n",
       "    </tr>\n",
       "  </tbody>\n",
       "</table>\n",
       "</div>"
      ],
      "text/plain": [
       "          id   keyword              location  \\\n",
       "10621   9936   trouble                  ??9?   \n",
       "9606    6717      lava        Budgam kashmir   \n",
       "831     1208  blizzard               unknown   \n",
       "7011   10050   twister  instagram: bribriony   \n",
       "1109    1602    bombed               unknown   \n",
       "\n",
       "                                                    text  target language  \n",
       "10621                      Mouna gonna get me in trouble     NaN       fr  \n",
       "9606           @Lavamobiles    ..i have lava iris 3G 402     NaN       ca  \n",
       "831    Lizard Wizard in a Blizzard #LWB http://t.co/M...     0.0       it  \n",
       "7011                       Drunk twister is so hard ????     0.0       de  \n",
       "1109         @BrodyFrieling @hanna_brooksie photo bombed     0.0       af  "
      ]
     },
     "execution_count": 22,
     "metadata": {},
     "output_type": "execute_result"
    }
   ],
   "source": [
    "df[df.language != 'en'].sample(5)"
   ]
  },
  {
   "cell_type": "markdown",
   "id": "b88469b7",
   "metadata": {},
   "source": [
    "It seems that the language detector function isn't doing a very good job of picking up some of the tweets' language. Regardless, it seems that all of the tweets are in English so we don't have to worry about dealing with other languages."
   ]
  },
  {
   "cell_type": "code",
   "execution_count": 23,
   "id": "79a1d2bc",
   "metadata": {},
   "outputs": [],
   "source": [
    "# dropping language column from dataset\n",
    "\n",
    "df.drop('language', 1, inplace=True)"
   ]
  },
  {
   "cell_type": "markdown",
   "id": "846f9b66",
   "metadata": {},
   "source": [
    "### Using the tweet-preprocessor package"
   ]
  },
  {
   "cell_type": "code",
   "execution_count": 24,
   "id": "fa57d569",
   "metadata": {},
   "outputs": [],
   "source": [
    "import preprocessor as p"
   ]
  },
  {
   "cell_type": "markdown",
   "id": "14114371",
   "metadata": {},
   "source": [
    "### Cleaning tweets"
   ]
  },
  {
   "cell_type": "code",
   "execution_count": 25,
   "id": "823df9ed",
   "metadata": {},
   "outputs": [],
   "source": [
    "# removing the tweet characteristics below from the tweets\n",
    "\n",
    "p.set_options(p.OPT.URL, p.OPT.EMOJI,p.OPT.SMILEY, p.OPT.MENTION, p.OPT.RESERVED)"
   ]
  },
  {
   "cell_type": "code",
   "execution_count": 26,
   "id": "b109fa80",
   "metadata": {},
   "outputs": [
    {
     "data": {
      "text/plain": [
       "'Wholesale Markets ablaze'"
      ]
     },
     "execution_count": 26,
     "metadata": {},
     "output_type": "execute_result"
    }
   ],
   "source": [
    "p.clean(df.text[31])"
   ]
  },
  {
   "cell_type": "code",
   "execution_count": 27,
   "id": "c781418f",
   "metadata": {},
   "outputs": [],
   "source": [
    "df['text_clean'] = df.text.apply(lambda x: p.clean(x))"
   ]
  },
  {
   "cell_type": "markdown",
   "id": "f93410d0",
   "metadata": {},
   "source": [
    "### Creating meta-data for tweet characteristics"
   ]
  },
  {
   "cell_type": "code",
   "execution_count": 28,
   "id": "f784e8db",
   "metadata": {},
   "outputs": [],
   "source": [
    "tweet_tokenized = df.text.apply(lambda x:p.tokenize(x))"
   ]
  },
  {
   "cell_type": "code",
   "execution_count": 29,
   "id": "ab7e1ad8",
   "metadata": {},
   "outputs": [],
   "source": [
    "# creating a for-loop to add columns for the tweet meta-data features\n",
    "\n",
    "for feature in ['url', 'smiley', 'mention']:\n",
    "    feature_counter = []\n",
    "    for tweet in tweet_tokenized:\n",
    "        counter = 0\n",
    "        for word in tweet.split():\n",
    "            if word == \"$\"+feature.upper()+\"$\":\n",
    "                counter += 1\n",
    "        feature_counter.append(counter)\n",
    "    df[\"tweet_\"+feature] = feature_counter"
   ]
  },
  {
   "cell_type": "markdown",
   "id": "b16c922a",
   "metadata": {},
   "source": [
    "### Meta-data for hash-tags"
   ]
  },
  {
   "cell_type": "code",
   "execution_count": 30,
   "id": "4f97ad42",
   "metadata": {},
   "outputs": [],
   "source": [
    "def hash_counter(x):\n",
    "    counter = 0\n",
    "    for word in x.split():\n",
    "        if word[0] == '#' and len(word) > 1:\n",
    "            counter += 1\n",
    "    return counter"
   ]
  },
  {
   "cell_type": "code",
   "execution_count": 31,
   "id": "cec9b4b7",
   "metadata": {},
   "outputs": [],
   "source": [
    "df['tweet_hashtag'] = df.text_clean.apply(hash_counter)"
   ]
  },
  {
   "cell_type": "markdown",
   "id": "46ed2c20",
   "metadata": {},
   "source": [
    "### Text meta-data: length of tweet, number of words and average word length"
   ]
  },
  {
   "cell_type": "code",
   "execution_count": 32,
   "id": "3b8d806d",
   "metadata": {},
   "outputs": [],
   "source": [
    "import string"
   ]
  },
  {
   "cell_type": "code",
   "execution_count": 33,
   "id": "5965494d",
   "metadata": {},
   "outputs": [],
   "source": [
    "df['tweet_characters'] = df.text_clean.apply(lambda x: len(x))"
   ]
  },
  {
   "cell_type": "code",
   "execution_count": 34,
   "id": "5d60b65b",
   "metadata": {},
   "outputs": [],
   "source": [
    "def word_counter(tweet):   \n",
    "    no_punct = ''.join([x for x in tweet if x not in string.punctuation])\n",
    "    word_lst = no_punct.split()      \n",
    "    return len(word_lst)"
   ]
  },
  {
   "cell_type": "code",
   "execution_count": 35,
   "id": "93c045ad",
   "metadata": {},
   "outputs": [],
   "source": [
    "df['tweet_words'] = df.text_clean.apply(word_counter)"
   ]
  },
  {
   "cell_type": "code",
   "execution_count": 36,
   "id": "96421055",
   "metadata": {},
   "outputs": [],
   "source": [
    "words = ''.join([x for x in 'Our Deeds are the Reason of this #earthquake ' if x not in string.punctuation]).split()"
   ]
  },
  {
   "cell_type": "code",
   "execution_count": 37,
   "id": "8eeaad9d",
   "metadata": {},
   "outputs": [
    {
     "data": {
      "text/plain": [
       "4.5"
      ]
     },
     "execution_count": 37,
     "metadata": {},
     "output_type": "execute_result"
    }
   ],
   "source": [
    "sum(map(len, words))/len(words)"
   ]
  },
  {
   "cell_type": "code",
   "execution_count": 38,
   "id": "e0304654",
   "metadata": {},
   "outputs": [],
   "source": [
    "def ave_word_length(tweet):\n",
    "    no_punct = ''.join([x for x in tweet if x not in string.punctuation])\n",
    "    word_lst = no_punct.split()\n",
    "    return sum(map(len, word_lst))/len(word_lst)"
   ]
  },
  {
   "cell_type": "code",
   "execution_count": 39,
   "id": "be3650bb",
   "metadata": {},
   "outputs": [],
   "source": [
    "df['tweet_av_word_length'] = df.text_clean.apply(ave_word_length)"
   ]
  },
  {
   "cell_type": "markdown",
   "id": "196de66b",
   "metadata": {},
   "source": [
    "### Remove punctuation completely"
   ]
  },
  {
   "cell_type": "code",
   "execution_count": null,
   "id": "8586a79b",
   "metadata": {},
   "outputs": [],
   "source": [
    "# removing punctuation from tweets\n",
    "\n",
    "for punct in string.punctuation:\n",
    "    df['text_clean'] = df.text_clean.str.replace(punct,'',regex=True)"
   ]
  },
  {
   "cell_type": "markdown",
   "id": "3d754958",
   "metadata": {},
   "source": [
    "### Removing digits"
   ]
  },
  {
   "cell_type": "code",
   "execution_count": null,
   "id": "c9efdb4f",
   "metadata": {},
   "outputs": [],
   "source": [
    "df['no_num'] = df.text_clean.replace('\\d+','',regex=True)"
   ]
  },
  {
   "cell_type": "markdown",
   "id": "8807d274",
   "metadata": {},
   "source": [
    "### Expanding contractions"
   ]
  },
  {
   "cell_type": "code",
   "execution_count": null,
   "id": "bb7afb75",
   "metadata": {},
   "outputs": [],
   "source": [
    "df['text_no_contr'] = df.no_num.apply(lambda x: ' '.join([contractions.fix(word) for word in x.split()]))"
   ]
  },
  {
   "cell_type": "markdown",
   "id": "afcd3b3b",
   "metadata": {},
   "source": [
    "### Tokenizing Tweets"
   ]
  },
  {
   "cell_type": "code",
   "execution_count": null,
   "id": "3c1665ee",
   "metadata": {},
   "outputs": [],
   "source": [
    "df['tokenized'] = df.text_no_contr.apply(nltk.word_tokenize)"
   ]
  },
  {
   "cell_type": "markdown",
   "id": "f0479d0a",
   "metadata": {},
   "source": [
    "### Change to lower-case"
   ]
  },
  {
   "cell_type": "code",
   "execution_count": null,
   "id": "832438f5",
   "metadata": {},
   "outputs": [],
   "source": [
    "df['lower'] = df.tokenized.apply(lambda x: [word.lower() for word in x])"
   ]
  },
  {
   "cell_type": "markdown",
   "id": "23d7a8b7",
   "metadata": {},
   "source": [
    "### Removing stop words"
   ]
  },
  {
   "cell_type": "code",
   "execution_count": null,
   "id": "01936082",
   "metadata": {},
   "outputs": [],
   "source": [
    "from nltk.corpus import stopwords"
   ]
  },
  {
   "cell_type": "code",
   "execution_count": null,
   "id": "ad08dbe6",
   "metadata": {},
   "outputs": [],
   "source": [
    "nltk.download('stopwords')"
   ]
  },
  {
   "cell_type": "code",
   "execution_count": null,
   "id": "62beefce",
   "metadata": {},
   "outputs": [],
   "source": [
    "stop_words = set(stopwords.words('english'))"
   ]
  },
  {
   "cell_type": "code",
   "execution_count": null,
   "id": "f1afdbd5",
   "metadata": {},
   "outputs": [],
   "source": [
    "df['no_stop'] = df.lower.apply(lambda x: [word for word in x if word not in stop_words])"
   ]
  },
  {
   "cell_type": "markdown",
   "id": "302c42ba",
   "metadata": {},
   "source": [
    "### Beginning the lemmatization process"
   ]
  },
  {
   "cell_type": "code",
   "execution_count": null,
   "id": "a1a9e9ef",
   "metadata": {},
   "outputs": [],
   "source": [
    "from nltk.corpus import wordnet"
   ]
  },
  {
   "cell_type": "code",
   "execution_count": null,
   "id": "b6947e4c",
   "metadata": {},
   "outputs": [],
   "source": [
    "from nltk.stem import WordNetLemmatizer"
   ]
  },
  {
   "cell_type": "code",
   "execution_count": null,
   "id": "e804042e",
   "metadata": {
    "scrolled": false
   },
   "outputs": [],
   "source": [
    "df['pos_tag'] = df.no_stop.apply(nltk.tag.pos_tag)"
   ]
  },
  {
   "cell_type": "code",
   "execution_count": null,
   "id": "f875a6ce",
   "metadata": {},
   "outputs": [],
   "source": [
    "wnl = WordNetLemmatizer()"
   ]
  },
  {
   "cell_type": "code",
   "execution_count": null,
   "id": "11044ac8",
   "metadata": {},
   "outputs": [],
   "source": [
    "wnl.lemmatize('going', 'v')"
   ]
  },
  {
   "cell_type": "code",
   "execution_count": null,
   "id": "945cd8ea",
   "metadata": {},
   "outputs": [],
   "source": [
    "def get_wordnet_pos(tag):\n",
    "    if tag.startswith('J'):\n",
    "        return wordnet.ADJ\n",
    "    elif tag.startswith('V'):\n",
    "        return wordnet.VERB\n",
    "    elif tag.startswith('N'):\n",
    "        return wordnet.NOUN\n",
    "    elif tag.startswith('R'):\n",
    "        return wordnet.ADV\n",
    "    else:\n",
    "        return wordnet.NOUN\n",
    "df['wordnet_pos'] = df['pos_tag'].apply(lambda x: [(word, get_wordnet_pos(pos_tag)) for (word, pos_tag) in x])"
   ]
  },
  {
   "cell_type": "code",
   "execution_count": null,
   "id": "0548c5a8",
   "metadata": {},
   "outputs": [],
   "source": [
    "df['lemmatized'] = df.wordnet_pos.apply(lambda x: ' '.join([wnl.lemmatize(word, tag) for word,tag in x]))"
   ]
  },
  {
   "cell_type": "code",
   "execution_count": null,
   "id": "856c7b6e",
   "metadata": {},
   "outputs": [],
   "source": [
    "df.head()"
   ]
  },
  {
   "cell_type": "markdown",
   "id": "48063545",
   "metadata": {},
   "source": [
    "### Removing columns that are no longer needed"
   ]
  },
  {
   "cell_type": "code",
   "execution_count": null,
   "id": "addf6998",
   "metadata": {},
   "outputs": [],
   "source": [
    "df.columns"
   ]
  },
  {
   "cell_type": "code",
   "execution_count": null,
   "id": "029ef561",
   "metadata": {},
   "outputs": [],
   "source": [
    "df.drop(['keyword', 'location', 'text', 'text_clean', 'no_num', 'text_no_contr',\n",
    "         'tokenized', 'lower', 'no_stop', 'pos_tag',\n",
    "         'wordnet_pos'],axis=1, inplace=True)"
   ]
  },
  {
   "cell_type": "markdown",
   "id": "0745c3ba",
   "metadata": {},
   "source": [
    "# EDA"
   ]
  },
  {
   "cell_type": "markdown",
   "id": "31a910ac",
   "metadata": {},
   "source": [
    "- seperate the below by each target variable\n",
    "    - ~~number of characters in each tweet~~\n",
    "    - ~~average word length in each sentence~~\n",
    "    - ~~most commonly appearing ngrams of various lenghts~~\n",
    "    - textblob for sentiment analysis\n",
    "    - ~~frequency of most common words~~\n",
    "- word clouds for each target variable"
   ]
  },
  {
   "cell_type": "code",
   "execution_count": null,
   "id": "19de1c7b",
   "metadata": {},
   "outputs": [],
   "source": [
    "tweet_md = ['tweet_url', 'tweet_smiley', 'tweet_mention', 'tweet_hashtag']"
   ]
  },
  {
   "cell_type": "code",
   "execution_count": null,
   "id": "a8bf5a76",
   "metadata": {},
   "outputs": [],
   "source": [
    "target_gb = df.groupby('target').mean()\n",
    "target_gb"
   ]
  },
  {
   "cell_type": "code",
   "execution_count": null,
   "id": "c7d993f8",
   "metadata": {},
   "outputs": [],
   "source": [
    "fig, ax = plt.subplots(4, 1, figsize = (16,14))\n",
    "\n",
    "target_gb['tweet_url'].plot.barh(ax=ax[0], color= ['g','r'])\n",
    "target_gb['tweet_smiley'].plot.barh(ax=ax[1], color= ['g','r'])\n",
    "target_gb['tweet_mention'].plot.barh(ax=ax[2], color= ['g','r'])\n",
    "target_gb['tweet_hashtag'].plot.barh(ax=ax[3], color= ['g','r'])\n",
    "\n",
    "features = ['URLs', 'Smileys', 'Mentions', 'Hashtags']\n",
    "\n",
    "for i, feature in zip(range(4), features):\n",
    "    ax[i].set_title(feature, fontsize=15)\n",
    "    ax[i].set_yticklabels(labels=['Not A Disaster Tweet', 'Disaster Tweet'])\n",
    "    ax[i].set_ylabel(None)\n",
    "\n",
    "fig.tight_layout(h_pad=3)\n",
    "fig.suptitle('Average No. of Times Tweet Features Appear',x= 0.5, y=1.03, fontsize=20)\n",
    "\n",
    "plt.show()"
   ]
  },
  {
   "cell_type": "code",
   "execution_count": null,
   "id": "99081f30",
   "metadata": {},
   "outputs": [],
   "source": [
    "target_gb"
   ]
  },
  {
   "cell_type": "code",
   "execution_count": null,
   "id": "59fc7872",
   "metadata": {},
   "outputs": [],
   "source": [
    "fig, ax = plt.subplots(3, 1, figsize = (16,10))\n",
    "\n",
    "target_gb['tweet_characters'].plot.barh(ax=ax[0], color= ['g','r'])\n",
    "target_gb['tweet_words'].plot.barh(ax=ax[1], color= ['g','r'])\n",
    "target_gb['tweet_av_word_length'].plot.barh(ax=ax[2], color= ['g','r'])\n",
    "\n",
    "features = ['No. of Characters', 'No. of Words', 'Average Word Length']\n",
    "\n",
    "for i, feature in zip(range(3), features):\n",
    "    ax[i].set_title(feature, fontsize=15)\n",
    "    ax[i].set_yticklabels(labels=['Not A Disaster Tweet', 'Disaster Tweet'])\n",
    "    ax[i].set_ylabel(None)\n",
    "\n",
    "fig.tight_layout(h_pad=3)\n",
    "fig.suptitle('Text Meta-data',x= 0.5, y=1.05, fontsize=20)\n",
    "\n",
    "plt.show()"
   ]
  },
  {
   "cell_type": "markdown",
   "id": "925ce059",
   "metadata": {},
   "source": [
    "# Add histogram comparisons to the above"
   ]
  },
  {
   "cell_type": "code",
   "execution_count": null,
   "id": "49919ca3",
   "metadata": {},
   "outputs": [],
   "source": [
    "fig,ax = plt.subplots(1,2,figsize=(16,6))\n",
    "\n",
    "df[df.target==0.0].tweet_characters.hist(ax=ax[0],color='g',grid=False)\n",
    "df[df.target==1.0].tweet_characters.hist(ax=ax[1],color='r',grid=False)\n",
    "\n",
    "ax[0].set_title('Non-Disaster Tweet')\n",
    "ax[1].set_title('Disaster Tweet')\n",
    "fig.suptitle('No. of Characters in Tweet', fontsize=15)\n",
    "\n",
    "plt.show()"
   ]
  },
  {
   "cell_type": "code",
   "execution_count": null,
   "id": "3250fca4",
   "metadata": {},
   "outputs": [],
   "source": [
    "fig,ax = plt.subplots(1,2,figsize=(16,6))\n",
    "\n",
    "df[df.target==0.0].tweet_words.hist(ax=ax[0],color='g',grid=False)\n",
    "df[df.target==1.0].tweet_words.hist(ax=ax[1],color='r',grid=False)\n",
    "\n",
    "ax[0].set_title('Non-Disaster Tweet')\n",
    "ax[1].set_title('Disaster Tweet')\n",
    "fig.suptitle('No. of Words in Tweet', fontsize=15)\n",
    "\n",
    "plt.show()"
   ]
  },
  {
   "cell_type": "code",
   "execution_count": null,
   "id": "369a4a8a",
   "metadata": {},
   "outputs": [],
   "source": [
    "fig,ax = plt.subplots(1,2,figsize=(16,6))\n",
    "\n",
    "df[df.target==0.0].tweet_av_word_length.hist(ax=ax[0],color='g',grid=False)\n",
    "df[df.target==1.0].tweet_av_word_length.hist(ax=ax[1],color='r',grid=False)\n",
    "\n",
    "ax[0].set_title('Non-Disaster Tweet')\n",
    "ax[1].set_title('Disaster Tweet')\n",
    "fig.suptitle('Average Word Length in Tweet', fontsize=15)\n",
    "\n",
    "plt.show()"
   ]
  },
  {
   "cell_type": "code",
   "execution_count": null,
   "id": "ba40e453",
   "metadata": {},
   "outputs": [],
   "source": [
    "df.rename({'lemmatized': 'text'}, axis=1, inplace=True)"
   ]
  },
  {
   "cell_type": "markdown",
   "id": "6fc38e49",
   "metadata": {},
   "source": [
    "# Countvectorize"
   ]
  },
  {
   "cell_type": "markdown",
   "id": "a83ef596",
   "metadata": {},
   "source": [
    "### Unigrams"
   ]
  },
  {
   "cell_type": "code",
   "execution_count": null,
   "id": "b8280c37",
   "metadata": {},
   "outputs": [],
   "source": [
    "cvec_1 = CountVectorizer(strip_accents='unicode', ngram_range=(1,1), max_df=1.0, min_df=1)"
   ]
  },
  {
   "cell_type": "code",
   "execution_count": null,
   "id": "82cdf98f",
   "metadata": {},
   "outputs": [],
   "source": [
    "matrix = cvec_1.fit_transform(df.text)"
   ]
  },
  {
   "cell_type": "code",
   "execution_count": null,
   "id": "4b3d22bd",
   "metadata": {},
   "outputs": [],
   "source": [
    "len(cvec_1.get_feature_names())"
   ]
  },
  {
   "cell_type": "code",
   "execution_count": null,
   "id": "c656a923",
   "metadata": {},
   "outputs": [],
   "source": [
    "df_cvec_1 = pd.DataFrame(matrix.toarray(), columns = cvec_1.get_feature_names())"
   ]
  },
  {
   "cell_type": "code",
   "execution_count": null,
   "id": "4d8163dd",
   "metadata": {},
   "outputs": [],
   "source": [
    "df_cvec_1['df_target'] = df.target"
   ]
  },
  {
   "cell_type": "code",
   "execution_count": null,
   "id": "b76a7a27",
   "metadata": {},
   "outputs": [],
   "source": [
    "top_words_0 = df_cvec_1.groupby('df_target').sum().loc[0.0].sort_values(ascending=True).tail(20)\n",
    "top_words_1 = df_cvec_1.groupby('df_target').sum().loc[1.0].sort_values(ascending=True).tail(20)"
   ]
  },
  {
   "cell_type": "code",
   "execution_count": null,
   "id": "5c480809",
   "metadata": {},
   "outputs": [],
   "source": [
    "fig,ax = plt.subplots(2,1,figsize=(16,12))\n",
    "\n",
    "top_words_0.plot.barh(ax=ax[0], fontsize=13)\n",
    "top_words_1.plot.barh(ax=ax[1], fontsize=13)\n",
    "\n",
    "ax[0].set_title('20 Most Frequently Appearing Unigrams for Non-Disaster Tweets', fontsize=15)\n",
    "ax[1].set_title('20 Most Frequently Appearing Unigrams for Disaster Tweets', fontsize=15)\n",
    "\n",
    "plt.show()"
   ]
  },
  {
   "cell_type": "markdown",
   "id": "1f4b531a",
   "metadata": {},
   "source": [
    "### Bigrams"
   ]
  },
  {
   "cell_type": "code",
   "execution_count": null,
   "id": "e53ecffd",
   "metadata": {},
   "outputs": [],
   "source": [
    "cvec_2 = CountVectorizer(strip_accents='unicode', ngram_range=(2,2), max_df=1.0, min_df=1)"
   ]
  },
  {
   "cell_type": "code",
   "execution_count": null,
   "id": "ac46846e",
   "metadata": {},
   "outputs": [],
   "source": [
    "matrix_2 = cvec_2.fit_transform(df.text)"
   ]
  },
  {
   "cell_type": "code",
   "execution_count": null,
   "id": "fcb5ed3c",
   "metadata": {},
   "outputs": [],
   "source": [
    "len(cvec_2.get_feature_names())"
   ]
  },
  {
   "cell_type": "code",
   "execution_count": null,
   "id": "13db241b",
   "metadata": {},
   "outputs": [],
   "source": [
    "df_cvec_2 = pd.DataFrame(matrix_2.toarray(), columns = cvec_2.get_feature_names())"
   ]
  },
  {
   "cell_type": "code",
   "execution_count": null,
   "id": "2101b19d",
   "metadata": {},
   "outputs": [],
   "source": [
    "df_cvec_2['df_target'] = df.target"
   ]
  },
  {
   "cell_type": "code",
   "execution_count": null,
   "id": "28a7c6a1",
   "metadata": {},
   "outputs": [],
   "source": [
    "top_bigrams_0 = df_cvec_2.groupby('df_target').sum().loc[0.0].sort_values(ascending=True).tail(20)\n",
    "top_bigrams_1 = df_cvec_2.groupby('df_target').sum().loc[1.0].sort_values(ascending=True).tail(20)"
   ]
  },
  {
   "cell_type": "code",
   "execution_count": null,
   "id": "a9de1824",
   "metadata": {},
   "outputs": [],
   "source": [
    "fig,ax = plt.subplots(2,1,figsize=(16,12))\n",
    "\n",
    "top_bigrams_0.plot.barh(ax=ax[0], fontsize=13)\n",
    "top_bigrams_1.plot.barh(ax=ax[1], fontsize=13)\n",
    "\n",
    "ax[0].set_title('20 Most Frequently Appearing Bigrams for Non-Disaster Tweets', fontsize=15)\n",
    "ax[1].set_title('20 Most Frequently Appearing Bigrams for Disaster Tweets', fontsize=15)\n",
    "\n",
    "plt.show()"
   ]
  },
  {
   "cell_type": "markdown",
   "id": "fbed09cd",
   "metadata": {},
   "source": [
    "## Trigrams"
   ]
  },
  {
   "cell_type": "code",
   "execution_count": null,
   "id": "eadb8ee2",
   "metadata": {},
   "outputs": [],
   "source": [
    "cvec_3 = CountVectorizer(strip_accents='unicode', ngram_range=(3,3), max_df=1.0, min_df=1)"
   ]
  },
  {
   "cell_type": "code",
   "execution_count": null,
   "id": "337626c7",
   "metadata": {},
   "outputs": [],
   "source": [
    "matrix_3 = cvec_3.fit_transform(df.text)"
   ]
  },
  {
   "cell_type": "code",
   "execution_count": null,
   "id": "84d46bf5",
   "metadata": {},
   "outputs": [],
   "source": [
    "len(cvec_3.get_feature_names())"
   ]
  },
  {
   "cell_type": "code",
   "execution_count": null,
   "id": "63e0cfa0",
   "metadata": {},
   "outputs": [],
   "source": [
    "df_cvec_3 = pd.DataFrame(matrix_3.toarray(), columns = cvec_3.get_feature_names())"
   ]
  },
  {
   "cell_type": "code",
   "execution_count": null,
   "id": "2aee7164",
   "metadata": {},
   "outputs": [],
   "source": [
    "df_cvec_3['df_target'] = df.target"
   ]
  },
  {
   "cell_type": "code",
   "execution_count": null,
   "id": "425d550e",
   "metadata": {},
   "outputs": [],
   "source": [
    "top_trigrams_0 = df_cvec_3.groupby('df_target').sum().loc[0.0].sort_values(ascending=True).tail(20)\n",
    "top_trigrams_1 = df_cvec_3.groupby('df_target').sum().loc[1.0].sort_values(ascending=True).tail(20)"
   ]
  },
  {
   "cell_type": "code",
   "execution_count": null,
   "id": "b549df7b",
   "metadata": {},
   "outputs": [],
   "source": [
    "fig,ax = plt.subplots(2,1,figsize=(16,12))\n",
    "\n",
    "top_trigrams_0.plot.barh(ax=ax[0], fontsize=13)\n",
    "top_trigrams_1.plot.barh(ax=ax[1], fontsize=13)\n",
    "\n",
    "ax[0].set_title('20 Most Frequently Appearing Trigrams for Non-Disaster Tweets', fontsize=15)\n",
    "ax[1].set_title('20 Most Frequently Appearing Trigrams for Disaster Tweets', fontsize=15)\n",
    "\n",
    "plt.show()"
   ]
  },
  {
   "cell_type": "markdown",
   "id": "503dd706",
   "metadata": {},
   "source": [
    "Notes - get appears a lot - is this important? Get rid?\n",
    "\n",
    "Need to remove the 'amp;' thing - what other characters might be here?"
   ]
  },
  {
   "cell_type": "markdown",
   "id": "3b0250d7",
   "metadata": {},
   "source": [
    "## Sentiment Analysis"
   ]
  },
  {
   "cell_type": "markdown",
   "id": "cbf29d72",
   "metadata": {},
   "source": [
    "# VISUALISE MORE!!!"
   ]
  },
  {
   "cell_type": "markdown",
   "id": "aa206db9",
   "metadata": {},
   "source": [
    "### To-do list:\n",
    "\n",
    "- create broader categories for the keyword and, potentially, location columns\n",
    "- use more visualizations through the data cleaning process (to start with: countvectorize before any data cleaning has started to show the words that appear the most frequently)\n",
    "\n",
    "\n",
    "#### Text Pre-processing\n",
    "\n",
    "- ~~check the language that the tweet is written in~~\n",
    "- ~~remove digits~~\n",
    "- ~~expand contractions~~\n",
    "- ~~convert to lowercase~\n",
    "- ~~remove punctuation~~ (maybe include meta-data for punctuation instead?)\n",
    "- ~~tokenize words~~\n",
    "- ~~lemmatize words~~\n",
    "- ~~remove stop-words~~\n",
    "- ~~hashtag extraction~~\n",
    "\n",
    "- ~~does the text contain emojis?~~\n",
    "\n",
    "#### Feature Engineering\n",
    "\n",
    "- ~~meta-data~~\n",
    "    - - ~~how many hash-tags each tweet contains~~\n",
    "    - ~~no. of emojis~~\n",
    "    - ~~number of words~~\n",
    "    - ~~number of characters~~\n",
    "- convert keyword column using techniques discussed here: https://www.kaggle.com/bandits/using-keywords-for-prediction-improvement\n",
    "- ~~average word length~~\n",
    "- use spacy to extract location from location variable\n",
    "\n",
    "#### EDA\n",
    "\n",
    "- before data cleaning - show number of tweets for each class\n",
    "- do more basic visualisations to back up decisions\n",
    "- word clouds for each target variable\n",
    "- ~~seperate the below by each target variable~~\n",
    "    - ~~number of characters in each tweet (make histogram)~~\n",
    "    - ~~average word length in each sentence (make histogram)~~\n",
    "    - ~~most commonly appearing ngrams of various lengths~~\n",
    "    - ~~use speech tagging~~\n",
    "    - ~~frequency of most common words~~\n",
    "    \n",
    "#### Other\n",
    "\n",
    "- Research the use of LDA and NMF\n",
    "    \n",
    "    \n",
    "Useful articles: \n",
    "\n",
    "https://towardsdatascience.com/preprocessing-text-data-using-python-576206753c28\n",
    "\n",
    "https://towardsdatascience.com/basic-tweet-preprocessing-in-python-efd8360d529e\n",
    "\n",
    "https://medium.com/spatial-data-science/how-to-extract-locations-from-text-with-natural-language-processing-9b77035b3ea4\n",
    "\n"
   ]
  },
  {
   "cell_type": "markdown",
   "id": "9ef759a6",
   "metadata": {},
   "source": [
    "TBC: https://towardsdatascience.com/preprocessing-text-data-using-python-576206753c28"
   ]
  }
 ],
 "metadata": {
  "kernelspec": {
   "display_name": "Python 3",
   "language": "python",
   "name": "python3"
  },
  "language_info": {
   "codemirror_mode": {
    "name": "ipython",
    "version": 3
   },
   "file_extension": ".py",
   "mimetype": "text/x-python",
   "name": "python",
   "nbconvert_exporter": "python",
   "pygments_lexer": "ipython3",
   "version": "3.8.8"
  },
  "toc": {
   "base_numbering": 1,
   "nav_menu": {},
   "number_sections": false,
   "sideBar": true,
   "skip_h1_title": false,
   "title_cell": "Table of Contents",
   "title_sidebar": "Contents",
   "toc_cell": false,
   "toc_position": {},
   "toc_section_display": true,
   "toc_window_display": false
  },
  "varInspector": {
   "cols": {
    "lenName": 16,
    "lenType": 16,
    "lenVar": 40
   },
   "kernels_config": {
    "python": {
     "delete_cmd_postfix": "",
     "delete_cmd_prefix": "del ",
     "library": "var_list.py",
     "varRefreshCmd": "print(var_dic_list())"
    },
    "r": {
     "delete_cmd_postfix": ") ",
     "delete_cmd_prefix": "rm(",
     "library": "var_list.r",
     "varRefreshCmd": "cat(var_dic_list()) "
    }
   },
   "types_to_exclude": [
    "module",
    "function",
    "builtin_function_or_method",
    "instance",
    "_Feature"
   ],
   "window_display": false
  }
 },
 "nbformat": 4,
 "nbformat_minor": 5
}
